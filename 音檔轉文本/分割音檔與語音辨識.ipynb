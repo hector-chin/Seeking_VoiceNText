{
 "cells": [
  {
   "cell_type": "code",
   "execution_count": null,
   "metadata": {},
   "outputs": [],
   "source": [
    "from pydub import AudioSegment\n",
    "import speech_recognition as sr\n",
    "import time"
   ]
  },
  {
   "cell_type": "code",
   "execution_count": null,
   "metadata": {},
   "outputs": [],
   "source": [
    "# 分割音檔\n",
    "def splitfile(splitedfile, savedir, seconds=30):\n",
    "    episode = AudioSegment.from_file(splitedfile)\n",
    "    for x in range(int(len(episode)/(seconds*1000))+1):\n",
    "        episode[(x*seconds)*1000:((x+1)*seconds+0.2)*1000].export(savedir.strip('/')+\n",
    "                                                                  splitedfile.split('/')[-1].split('.')[0]+\n",
    "                                                                  f'_{x}.wav', format='wav')\n",
    "        print(f'{splitedfile.split('/')[-1].split('.')[0]}_{x} is done.')\n",
    "    print('All finished.')\n",
    "    return"
   ]
  },
  {
   "cell_type": "code",
   "execution_count": null,
   "metadata": {},
   "outputs": [],
   "source": [
    "# 語音辨識Speech To Text\n",
    "def STT(audiopath):\n",
    "    r = sr.Recognizer()\n",
    "    with sr.WavFile(audiopath) as source:\n",
    "        audio = r.record(source)\n",
    "    try:\n",
    "        start = time.time()\n",
    "        text = r.recognize_google(audio,language='zh-tw')\n",
    "        end = time.time()\n",
    "        print('Result:',text)\n",
    "        print('Total time:',(end - start))\n",
    "    except:\n",
    "        print('An error occured')\n",
    "    return text"
   ]
  },
  {
   "cell_type": "code",
   "execution_count": null,
   "metadata": {},
   "outputs": [],
   "source": []
  }
 ],
 "metadata": {
  "kernelspec": {
   "display_name": "Python 3",
   "language": "python",
   "name": "python3"
  },
  "language_info": {
   "codemirror_mode": {
    "name": "ipython",
    "version": 3
   },
   "file_extension": ".py",
   "mimetype": "text/x-python",
   "name": "python",
   "nbconvert_exporter": "python",
   "pygments_lexer": "ipython3",
   "version": "3.8.3"
  }
 },
 "nbformat": 4,
 "nbformat_minor": 5
}
