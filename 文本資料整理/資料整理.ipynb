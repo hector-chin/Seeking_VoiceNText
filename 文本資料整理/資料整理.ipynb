{
 "cells": [
  {
   "cell_type": "code",
   "execution_count": 1,
   "metadata": {},
   "outputs": [],
   "source": [
    "import os\n",
    "import json\n",
    "import pandas as pd"
   ]
  },
  {
   "cell_type": "code",
   "execution_count": 2,
   "metadata": {},
   "outputs": [],
   "source": [
    "shangdatapathlist = os.listdir('./專題資料/Shang')"
   ]
  },
  {
   "cell_type": "code",
   "execution_count": 3,
   "metadata": {},
   "outputs": [],
   "source": [
    "bookdata = []\n",
    "isbnlist = []"
   ]
  },
  {
   "cell_type": "code",
   "execution_count": 4,
   "metadata": {
    "code_folding": []
   },
   "outputs": [],
   "source": [
    "for x in [i for i in os.listdir('./專題資料/Shang') if i.startswith('book')]:\n",
    "    with open(f'./專題資料/Shang/{x}') as f:\n",
    "        bookjson = json.loads(f.read())\n",
    "    for cat, bookdict in bookjson.items():\n",
    "        for isbn, book in bookdict.items():\n",
    "            if isbn.isnumeric():\n",
    "                if isbn not in isbnlist:\n",
    "                    bookdata.append({'ISBN': isbn, 'Title': book['title'], 'Content': book['content'], 'Url': book['url']})\n",
    "                    isbnlist.append(isbn)"
   ]
  },
  {
   "cell_type": "code",
   "execution_count": 5,
   "metadata": {},
   "outputs": [],
   "source": [
    "larrydatapathlist = os.listdir('./專題資料/Larry/book')"
   ]
  },
  {
   "cell_type": "code",
   "execution_count": 6,
   "metadata": {},
   "outputs": [
    {
     "name": "stdout",
     "output_type": "stream",
     "text": [
      "縱橫太極四\n",
      "陳氏太極拳大全全集\n",
      "縱橫太極四\n",
      "鐵道情報250期\n",
      "縱橫太極四\n",
      "工業配線寶典\n",
      "縱橫太極四\n",
      "縱橫太極四\n",
      "縱橫太極四\n",
      "縱橫太極四\n",
      "縱橫太極四\n",
      "阿鳳姨ê五度ê空間插繪版續集\n",
      "鐵道情報247期：特集-一甲子的奮進！R20型\n",
      "結繩技士\n"
     ]
    }
   ],
   "source": [
    "for x in larrydatapathlist:\n",
    "    with open(f'./專題資料/Larry/book/{x}') as f:\n",
    "        bookjson = json.loads(f.read())\n",
    "    for cat, bookdict in bookjson.items():\n",
    "        for isbn, book in bookdict.items():\n",
    "            if isbn.isnumeric():\n",
    "                if isbn not in isbnlist:\n",
    "                    try:\n",
    "                        bookdata.append({'ISBN': isbn, 'Title': book['title'], 'Content': book['content'], 'Url': book['book_url']})\n",
    "                        isbnlist.append(isbn)\n",
    "                    except:\n",
    "                        print(book['title'])"
   ]
  },
  {
   "cell_type": "code",
   "execution_count": 7,
   "metadata": {},
   "outputs": [],
   "source": [
    "phoebedatapathlist = [i for i in os.listdir('./專題資料/Phoebe') if not os.path.isdir(i)]"
   ]
  },
  {
   "cell_type": "code",
   "execution_count": 8,
   "metadata": {},
   "outputs": [],
   "source": [
    "for x in phoebedatapathlist:\n",
    "    with open(f'./專題資料/Phoebe/{x}') as f:\n",
    "        bookjson = json.loads(f.read())\n",
    "    for cat, bookdict in bookjson.items():\n",
    "        for isbn, book in bookdict.items():\n",
    "            if isbn.isnumeric():\n",
    "                if isbn not in isbnlist:\n",
    "                    try:\n",
    "                        bookdata.append({'ISBN': isbn, 'Title': book['title'], 'Content': book['content'], 'Url': book['book_url']})\n",
    "                        isbnlist.append(isbn)\n",
    "                    except:\n",
    "                        print(book['title'])"
   ]
  },
  {
   "cell_type": "code",
   "execution_count": 9,
   "metadata": {},
   "outputs": [
    {
     "data": {
      "text/plain": [
       "3378"
      ]
     },
     "execution_count": 9,
     "metadata": {},
     "output_type": "execute_result"
    }
   ],
   "source": [
    "len(bookdata)"
   ]
  },
  {
   "cell_type": "code",
   "execution_count": 10,
   "metadata": {},
   "outputs": [],
   "source": [
    "with open('./專題資料/BookData.json', 'w') as f:\n",
    "    json.dump(bookdata,f)"
   ]
  },
  {
   "cell_type": "code",
   "execution_count": null,
   "metadata": {},
   "outputs": [],
   "source": []
  },
  {
   "cell_type": "code",
   "execution_count": 13,
   "metadata": {},
   "outputs": [],
   "source": [
    "youtubedata = []"
   ]
  },
  {
   "cell_type": "code",
   "execution_count": 14,
   "metadata": {},
   "outputs": [],
   "source": [
    "shangdatapathlist = [i for i in os.listdir('./專題資料/Shang') if i.startswith('youtube') and i.endswith('text.json')]\n",
    "shangurllist = [i for i in os.listdir('./專題資料/Shang') if i.startswith('youtube') and not i.endswith('text.json')]"
   ]
  },
  {
   "cell_type": "code",
   "execution_count": 15,
   "metadata": {},
   "outputs": [],
   "source": [
    "shangurl = {}"
   ]
  },
  {
   "cell_type": "code",
   "execution_count": 16,
   "metadata": {},
   "outputs": [],
   "source": [
    "for x in shangurllist:\n",
    "    with open(f'./專題資料/Shang/{x}') as f:\n",
    "        urljson = json.loads(f.read())\n",
    "    for cat, urldict in urljson.items():\n",
    "        for key, value in urldict.items():\n",
    "            shangurl[key] = value"
   ]
  },
  {
   "cell_type": "code",
   "execution_count": 17,
   "metadata": {},
   "outputs": [],
   "source": [
    "for x in shangdatapathlist:\n",
    "    with open(f'./專題資料/Shang/{x}') as f:\n",
    "        youtubejson = json.loads(f.read())\n",
    "    for cat, youtubedict in youtubejson.items():\n",
    "        for key, value in youtubedict.items():\n",
    "            youtubedata.append({'Title': key[:-13], 'Content': '_'.join(value), 'Url': shangurl[key], 'Date': key.split('_')[-1][:-4]})"
   ]
  },
  {
   "cell_type": "code",
   "execution_count": 19,
   "metadata": {},
   "outputs": [],
   "source": [
    "larrydatapathlist = [i for i in os.listdir('./專題資料/Larry/Youtube')]\n",
    "larryurl = pd.read_csv('./專題資料/Larry/youtube集數連結_larry.csv',names=['Title','Url','Category'])"
   ]
  },
  {
   "cell_type": "code",
   "execution_count": 20,
   "metadata": {
    "code_folding": []
   },
   "outputs": [],
   "source": [
    "for x in larrydatapathlist:\n",
    "    with open(f'./專題資料/Larry/Youtube/{x}') as f:\n",
    "        youtubejson = json.loads(f.read())\n",
    "    for cat, youtubedict in youtubejson.items():\n",
    "        for key, value in youtubedict.items():\n",
    "            youtubedata.append({'Title': key[:-9], 'Content': '_'.join(value), 'Url': larryurl[larryurl.Title==key]['Url'].iloc[0], 'Date': key.split('_')[-1]})"
   ]
  },
  {
   "cell_type": "code",
   "execution_count": 22,
   "metadata": {},
   "outputs": [],
   "source": [
    "phoebedatapathlist = [i for i in os.listdir('./專題資料/Phoebe/Youtube') if i.endswith('文本.json')]\n",
    "phoebestr = './專題資料/Phoebe/Youtube/youtube集數連結.json'"
   ]
  },
  {
   "cell_type": "code",
   "execution_count": 23,
   "metadata": {},
   "outputs": [],
   "source": [
    "phoebeurl = {}\n",
    "with open(phoebestr) as f:\n",
    "    phoebejson = json.loads(f.read())\n",
    "for cat, urldict in phoebejson.items():\n",
    "    for title, url in urldict.items():\n",
    "        phoebeurl[title] = url"
   ]
  },
  {
   "cell_type": "code",
   "execution_count": 24,
   "metadata": {},
   "outputs": [],
   "source": [
    "for x in phoebedatapathlist:\n",
    "    with open(f'./專題資料/Phoebe/Youtube/{x}') as f:\n",
    "        youtubejson = json.loads(f.read())\n",
    "    for cat, youtubedict in youtubejson.items():\n",
    "        for key, value in youtubedict.items():\n",
    "            youtubedata.append({'Title': key[:-9], 'Content': '_'.join(value), 'Url': phoebeurl[key], 'Date': key.split('_')[-1]})"
   ]
  },
  {
   "cell_type": "code",
   "execution_count": 25,
   "metadata": {},
   "outputs": [],
   "source": [
    "dandatapathlist = [i for i in os.listdir('./專題資料/丹/Youtube') if i.endswith('文本.json')]\n",
    "danstr = './專題資料/丹/youtube集數連結.csv'"
   ]
  },
  {
   "cell_type": "code",
   "execution_count": 26,
   "metadata": {},
   "outputs": [],
   "source": [
    "danurl = pd.read_csv('./專題資料/丹/youtube集數連結.csv',names=['Title','Url','Category'])"
   ]
  },
  {
   "cell_type": "code",
   "execution_count": 27,
   "metadata": {},
   "outputs": [],
   "source": [
    "for x in dandatapathlist:\n",
    "    with open(f'./專題資料/丹/Youtube/{x}') as f:\n",
    "        youtubejson = json.loads(f.read())\n",
    "    for cat, youtubedict in youtubejson.items():\n",
    "        for key, value in youtubedict.items():\n",
    "            youtubedata.append({'Title': key[:-9], 'Content': '_'.join(value), 'Url': danurl[danurl.Title==key]['Url'].iloc[0], 'Date': key.split('_')[-1]})"
   ]
  },
  {
   "cell_type": "code",
   "execution_count": 28,
   "metadata": {},
   "outputs": [
    {
     "data": {
      "text/plain": [
       "2162"
      ]
     },
     "execution_count": 28,
     "metadata": {},
     "output_type": "execute_result"
    }
   ],
   "source": [
    "len(youtubedata)"
   ]
  },
  {
   "cell_type": "code",
   "execution_count": 29,
   "metadata": {},
   "outputs": [],
   "source": [
    "with open('./專題資料/YoutubeData.json', 'w') as f:\n",
    "    json.dump(youtubedata,f)"
   ]
  },
  {
   "cell_type": "code",
   "execution_count": 2,
   "metadata": {},
   "outputs": [],
   "source": [
    "podcastdata = []"
   ]
  },
  {
   "cell_type": "code",
   "execution_count": 3,
   "metadata": {},
   "outputs": [],
   "source": [
    "shangdatapathlist = [i for i in os.listdir('./專題資料/Shang') if i.startswith('podcast') and i.endswith('text.json')]\n",
    "shangurllist = [i for i in os.listdir('./專題資料/Shang') if i.startswith('podcast') and not i.endswith('text.json')]"
   ]
  },
  {
   "cell_type": "code",
   "execution_count": 4,
   "metadata": {},
   "outputs": [],
   "source": [
    "shangurl = {}"
   ]
  },
  {
   "cell_type": "code",
   "execution_count": 5,
   "metadata": {},
   "outputs": [],
   "source": [
    "for x in shangurllist:\n",
    "    with open(f'./專題資料/Shang/{x}') as f:\n",
    "        urljson = json.loads(f.read())\n",
    "    for cat, urldict in urljson.items():\n",
    "        for key, value in urldict.items():\n",
    "            shangurl[key] = value"
   ]
  },
  {
   "cell_type": "code",
   "execution_count": 6,
   "metadata": {},
   "outputs": [
    {
     "name": "stdout",
     "output_type": "stream",
     "text": [
      "【2021_11_11國際新聞】拜習會15日正式登場！台灣議題或成會議關鍵／日新外相林芳正走馬上任！辭日中友好議聯會長避嫌／ Google官司纏身不停歇！一則以喜一則以憂_20211112.mp4\n",
      "【2021_11_12國際新聞】南韓N號房兩嫌確定刑責／海地動亂不斷！竟遭黑幫控制／計程車即將飛上天？／誤殺攝影師！美國男星亞歷鮑德溫挨告_20211113.mp4\n",
      "【2021_11_13國際新聞】艾多美蜂蜜飲具有肝毒性！／芝加哥治安問題遭到質疑／植物也能唱歌給你聽！／疫苗新研究可增加免疫力_20211114.mp4\n",
      "【2021_11_14國際新聞】菲律賓大選　杜特蒂與女兒競選副總統／氣候變遷亞馬遜雨林鳥類體型縮小／揭發你的酒吧 　西歐反性暴力運動升溫／第一批太空辣椒誕生！_20211115.mp4\n",
      "【2021_11_15國際新聞】聯合國氣候峰會端減煤的妥協性協議 _印度聖河充滿毒泡沫 _英國保守黨政治醜聞風暴！_ 歐洲再度成為疫情震央！_20211116.mp4\n",
      "【2021_11_16國際新聞】歐盟加重制裁阻止移民湧入／今年聖誕節將沒有聖誕老公公？／法國國旗悄悄變色？_20211117.mp4\n",
      "敏迪選讀 11_15 NBA球星Enes Kante「鞋助港台」、波蘭要被白俄羅斯搞毛了、氣候變遷峰會談了哪些_20211115.mp4\n"
     ]
    }
   ],
   "source": [
    "for x in shangdatapathlist:\n",
    "    with open(f'./專題資料/Shang/{x}') as f:\n",
    "        podcastjson = json.loads(f.read())\n",
    "    for cat, podcastdict in podcastjson.items():\n",
    "        for key, value in podcastdict.items():\n",
    "            try:\n",
    "                podcastdata.append({'Title': key[:-13], 'Content': '_'.join(value), 'Url': shangurl[key], 'Date': key.split('_')[-1][:-4]})\n",
    "            except:\n",
    "                print(key)"
   ]
  },
  {
   "cell_type": "code",
   "execution_count": 24,
   "metadata": {},
   "outputs": [],
   "source": [
    "with open(f'./專題資料/Shang/{shangdatapathlist[9]}') as f:\n",
    "        podcastjson = json.loads(f.read())"
   ]
  },
  {
   "cell_type": "code",
   "execution_count": 27,
   "metadata": {
    "code_folding": []
   },
   "outputs": [],
   "source": [
    "podcastdata.append({'Title': '敏迪選讀 11_15 NBA球星Enes Kante「鞋助港台」、波蘭要被白俄羅斯搞毛了、氣候變遷峰會談了哪些',\n",
    "                    'Content': '_'.join(podcastjson['政治']['敏迪選讀 11_15 NBA球星Enes Kante「鞋助港台」、波蘭要被白俄羅斯搞毛了、氣候變遷峰會談了哪些_20211115.mp4']), \n",
    "                    'Url': shangurl['敏迪選讀 11_15 NBA球星Enes Kante「鞋助港台」、波蘭要被白俄羅斯搞毛了、氣候變遷峰會談了哪些_20211114.mp4'],\n",
    "                    'Date': '20211115'})"
   ]
  },
  {
   "cell_type": "code",
   "execution_count": 28,
   "metadata": {},
   "outputs": [],
   "source": [
    "larrydatapathlist = [i for i in os.listdir('./專題資料/Larry/Podcast')]\n",
    "larryurl = pd.read_csv('./專題資料/Larry/podacst集數連結_larry.csv',names=['Title','Url','Category'])"
   ]
  },
  {
   "cell_type": "code",
   "execution_count": 29,
   "metadata": {},
   "outputs": [
    {
     "name": "stdout",
     "output_type": "stream",
     "text": [
      "EP70《教你存自己的300張股票》第一章（上）_做聰明的懶惰者，別當勤勞的傻瓜_20210730\n",
      "【經濟學人@天下Ep.23】從911事件20週年檢視美國外交政策 ; 疫情下全球都會區的樣貌革命_20210914\n",
      "【經濟學人@天下Ep.32】普丁的新鎮壓時代來臨 ; 中國的另一個金融危機_20211116\n",
      "【經濟學人@天下Ep.27】疫後刺激政策下所引發的短缺經濟 ; 氫能源時代來了！_20211012\n",
      "【經濟學人@天下Ep.31】檢視拜登政府上台週年成績單 ; 通膨影響債券市場波動_20211109\n"
     ]
    }
   ],
   "source": [
    "for x in larrydatapathlist:\n",
    "    with open(f'./專題資料/Larry/Podcast/{x}') as f:\n",
    "        podcastjson = json.loads(f.read())\n",
    "    for cat, podcastdict in podcastjson.items():\n",
    "        for key, value in podcastdict.items():\n",
    "            try:\n",
    "                podcastdata.append({'Title': key[:-9], 'Content': '_'.join(value), 'Url': larryurl[larryurl.Title==key]['Url'].iloc[0], 'Date': key.split('_')[-1]})\n",
    "            except:\n",
    "                print(key)"
   ]
  },
  {
   "cell_type": "code",
   "execution_count": 33,
   "metadata": {},
   "outputs": [],
   "source": [
    "with open(f'./專題資料/Larry/Podcast/{larrydatapathlist[5]}') as f:\n",
    "        podcastjson = json.loads(f.read())"
   ]
  },
  {
   "cell_type": "code",
   "execution_count": 42,
   "metadata": {},
   "outputs": [
    {
     "data": {
      "text/plain": [
       "['【經濟學人@天下Ep.32】普丁的新鎮壓時代來臨 ',\n",
       " '【經濟學人@天下Ep.31】檢視拜登政府上台週年成績單 ',\n",
       " '【經濟學人@天下Ep.30】COP26氣候峰會能否及時踩住暖化煞車？藝術收藏市場正被NFT顛覆_20211102',\n",
       " '【經濟學人@天下Ep.29 】即時數據催生第三波經濟學；金錢的地緣政治正在轉變，跨境金融將被重新定義_20211028',\n",
       " '【經濟學人@天下Ep.28】疫情過後的全球能源大恐慌；拉丁美洲成中美兵家必爭之地_20211019',\n",
       " '【經濟學人@天下Ep.27】疫後刺激政策下所引發的短缺經濟 ',\n",
       " '【經濟學人@天下Ep.26 】習近平的中國新現實充滿危機；倫敦金融城的今非昔比_20211005',\n",
       " '【經濟學人@天下Ep.25】AUKUS成形催化亞太新地緣政治；從恒大事件看中國金融改革_20210928',\n",
       " '【經濟學人@天下Ep.24】去中心化金融的希望與風險；航運塞港下企業與物流的新平衡_20210921',\n",
       " '【經濟學人@天下Ep.23】從911事件20週年檢視美國外交政策 ',\n",
       " '【經濟學人@天下Ep.22】古典自由主義正遭受狹隘左派的威脅；疫情之下越南經濟的崛起_20210907',\n",
       " '【經濟學人@天下Ep.21】塔利班的勝利正鼓舞全球聖戰者；美國聯準會主席鮑爾的功與過_20210831',\n",
       " '【經濟學人@天下Ep.20】拜登的潰敗，美國時代尾聲來臨？中國企業在東南亞的積極佈局_20210824',\n",
       " '【經濟學人@天下Ep.19】中國政府對科技巨擘的打擊；日本，在東南亞安靜的巨人_20210817',\n",
       " '【經濟學人@天下Ep.18】「公開來源情報」帶來的力量；全球晶片短缺下\\u3000台灣護國神山的未來_20210810',\n",
       " '【經濟學人@天下Ep.17】新興經濟體發展不如預期；中國市場出現逆風\\u3000全面監管造成投資恐慌_20210803',\n",
       " '【經濟學人@天下Ep.16】洪水野火肆虐\\u3000怎麼救地球？Delta變種病毒威脅全球經濟復甦_20210727',\n",
       " '【經濟學人@天下Ep.15】拜登主義下的美中關係惡化；氣候變化加劇\\u3000全球碳市場逐步啟動_20210720',\n",
       " '【經濟學人@天下Ep.14】全球經濟復甦下隱藏三大斷層線；20年戰役落幕\\u3000美國撤軍阿富汗_20210713',\n",
       " '【經濟學人@天下Ep.13】距離「正常生活」多遠？台灣排名倒數第二\\u3000香港金融中心地位恐不保_20210706']"
      ]
     },
     "execution_count": 42,
     "metadata": {},
     "output_type": "execute_result"
    }
   ],
   "source": [
    "[i for i in larryurl.Title if i.startswith('【經濟學人@天下Ep.')]"
   ]
  },
  {
   "cell_type": "code",
   "execution_count": 48,
   "metadata": {},
   "outputs": [],
   "source": [
    "podcastdata.append({'Title': '【經濟學人@天下Ep.31】檢視拜登政府上台週年成績單 ; 通膨影響債券市場波動',\n",
    "                    'Content': '_'.join(podcastjson['商業']['【經濟學人@天下Ep.31】檢視拜登政府上台週年成績單 ; 通膨影響債券市場波動_20211109']), \n",
    "                    'Url': larryurl[larryurl.Title=='【經濟學人@天下Ep.31】檢視拜登政府上台週年成績單 ']['Url'].iloc[0],\n",
    "                    'Date': '20211109'})"
   ]
  },
  {
   "cell_type": "code",
   "execution_count": 49,
   "metadata": {},
   "outputs": [],
   "source": [
    "phoebedatapathlist = [i for i in os.listdir('./專題資料/Phoebe/Podcast') if i.endswith('文本.json')]\n",
    "phoebestr = './專題資料/Phoebe/Podcast/podacst集數連結.json'"
   ]
  },
  {
   "cell_type": "code",
   "execution_count": 50,
   "metadata": {},
   "outputs": [],
   "source": [
    "phoebeurl = {}\n",
    "with open(phoebestr) as f:\n",
    "    phoebejson = json.loads(f.read())\n",
    "\n",
    "for cat, urldict in phoebejson.items():\n",
    "    for title, url in urldict.items():\n",
    "        phoebeurl[title] = url"
   ]
  },
  {
   "cell_type": "code",
   "execution_count": 51,
   "metadata": {
    "scrolled": true
   },
   "outputs": [
    {
     "name": "stdout",
     "output_type": "stream",
     "text": [
      "第七集 寵物在家情緒_20210719\n",
      "第六集 疫情期間主人忽然隔離，寵物怎麼辦？_20210712\n",
      "特別專輯寵物展之1_20211005\n",
      "第15集寵物（貓）要怎麼喝水之1_20210923\n",
      "第11集寵物怎麼吃之二_20210823\n",
      "第16集寵物(狗）要怎麼喝水之2_20210927\n",
      "第18集寵物玩-貓玩樂之ㄧ_20211018\n",
      "第八集 怎麼選擇適合的第一隻寵物_20210726\n",
      "第20集寵物玩-貓玩樂之三_20211101\n",
      "特別專輯寵物展之二_20211008\n",
      "第21集寵物玩-寵物公園_20211115\n",
      "第17集李老師出任務-寵物肉乾_20211012\n",
      "第10集 寵物怎麼吃之一_20210817\n",
      "第19集寵物玩-貓玩樂之二_20211025\n",
      "第22集寵物玩-寵物餐廳_20211123\n",
      "第13集寵物怎麼吃之4_20210913\n",
      "第12集寵物怎麼吃之3_20210906\n",
      "第14集亞洲大學學士後獸醫介紹_20210920\n",
      "第9集中獸醫介紹_20210809\n"
     ]
    }
   ],
   "source": [
    "for x in phoebedatapathlist:\n",
    "    with open(f'./專題資料/Phoebe/Podcast/{x}') as f:\n",
    "        podcastjson = json.loads(f.read())\n",
    "    for cat, podcastdict in podcastjson.items():\n",
    "        for key, value in podcastdict.items():\n",
    "            try:\n",
    "                podcastdata.append({'Title': key[:-9], 'Content': '_'.join(value), 'Url': phoebeurl[key], 'Date': key.split('_')[-1]})\n",
    "            except:\n",
    "                print(key)"
   ]
  },
  {
   "cell_type": "code",
   "execution_count": 52,
   "metadata": {},
   "outputs": [],
   "source": [
    "with open(f'./專題資料/Phoebe/Podcast/{phoebedatapathlist[6]}') as f:\n",
    "    podcastjson = json.loads(f.read())"
   ]
  },
  {
   "cell_type": "code",
   "execution_count": 71,
   "metadata": {},
   "outputs": [],
   "source": [
    "podcastdata.append({'Title': '第9集中獸醫介紹',\n",
    "                    'Content': '_'.join(podcastjson['寵物']['第9集中獸醫介紹_20210809']), \n",
    "                    'Url': 'https://backend.endpoints.firstory-709db.cloud.goog/play.mp3?url=https%3A%2F%2Fstorage.googleapis.com%2Ffirstory-709db.appspot.com%2FRecord%2Fckgyrnvr5vx3w09031hu0jyla%2F1628491777995.mp3%3Fv%3D1628491785257',\n",
    "                    'Date': '20210809'})"
   ]
  },
  {
   "cell_type": "code",
   "execution_count": 72,
   "metadata": {},
   "outputs": [],
   "source": [
    "dandatapathlist = [i for i in os.listdir('./專題資料/丹/Podcast')]\n",
    "danurl = pd.read_csv('./專題資料/丹/podcast集數連結.csv',names=['Title','Url','Category'])"
   ]
  },
  {
   "cell_type": "code",
   "execution_count": 73,
   "metadata": {
    "scrolled": false
   },
   "outputs": [
    {
     "name": "stdout",
     "output_type": "stream",
     "text": [
      "EP56. 治療Covid19的新希望？嗅覺決定飲食？_20210918\n",
      "EP55. 為什麼你一緊張就容易犯錯_ 人腦x電腦連結__20210909\n",
      "EP59. Covid會加速大腦老化_量子電腦vs傳統電腦_阿茲海默症的新希望：蟲__20211008\n",
      "EP63. 病毒，讓人又愛又恨？_20211115\n",
      "EP62. 冥想可以幫你降低錯誤_ 動物器官移植到人身上_ 付錢打疫苗有用嗎__20211029\n",
      "EP57. 專題系列4_ 糖 vs 代糖_20210928\n",
      "EP61. 走，追極光_20211020\n",
      "EP60. 一週年感想 ft. 諾貝爾醫學獎_20211014\n",
      "EP58. 綠建築？被動房屋？零碳建築？ft. Kevin_20211003\n"
     ]
    }
   ],
   "source": [
    "for x in dandatapathlist:\n",
    "    with open(f'./專題資料/丹/Podcast/{x}') as f:\n",
    "        podcastjson = json.loads(f.read())\n",
    "    for cat, podcastdict in podcastjson.items():\n",
    "        for key, value in podcastdict.items():\n",
    "            try:\n",
    "                podcastdata.append({'Title': key[:-9], 'Content': '_'.join(value), 'Url': danurl[danurl.Title==key]['Url'].iloc[0], 'Date': key.split('_')[-1]})\n",
    "            except:\n",
    "                print(key)"
   ]
  },
  {
   "cell_type": "code",
   "execution_count": 74,
   "metadata": {},
   "outputs": [],
   "source": [
    "with open(f'./專題資料/丹/Podcast/{dandatapathlist[-4]}') as f:\n",
    "    podcastjson = json.loads(f.read())"
   ]
  },
  {
   "cell_type": "code",
   "execution_count": 83,
   "metadata": {},
   "outputs": [],
   "source": [
    "podcastdata.append({'Title': 'EP58. 綠建築？被動房屋？零碳建築？ft. Kevin',\n",
    "                    'Content': '_'.join(podcastjson['科學']['EP58. 綠建築？被動房屋？零碳建築？ft. Kevin_20211003']), \n",
    "                    'Url': 'https://www.listennotes.com/podcasts/%E7%A7%91%E5%AD%B8%E5%8D%81%E5%88%86%E9%90%98/ep58-%E7%B6%A0%E5%BB%BA%E7%AF%89%E8%A2%AB%E5%8B%95%E6%88%BF%E5%B1%8B%E9%9B%B6%E7%A2%B3%E5%BB%BA%E7%AF%89ft-kevin-1TXM5qGkbLw/',\n",
    "                    'Date': '20211003'})"
   ]
  },
  {
   "cell_type": "code",
   "execution_count": 84,
   "metadata": {},
   "outputs": [
    {
     "data": {
      "text/plain": [
       "1991"
      ]
     },
     "execution_count": 84,
     "metadata": {},
     "output_type": "execute_result"
    }
   ],
   "source": [
    "len(podcastdata)"
   ]
  },
  {
   "cell_type": "code",
   "execution_count": 85,
   "metadata": {},
   "outputs": [],
   "source": [
    "with open('./專題資料/PodcastData.json', 'w') as f:\n",
    "    json.dump(podcastdata,f)"
   ]
  },
  {
   "cell_type": "code",
   "execution_count": null,
   "metadata": {},
   "outputs": [],
   "source": []
  }
 ],
 "metadata": {
  "kernelspec": {
   "display_name": "Python 3",
   "language": "python",
   "name": "python3"
  },
  "language_info": {
   "codemirror_mode": {
    "name": "ipython",
    "version": 3
   },
   "file_extension": ".py",
   "mimetype": "text/x-python",
   "name": "python",
   "nbconvert_exporter": "python",
   "pygments_lexer": "ipython3",
   "version": "3.8.3"
  }
 },
 "nbformat": 4,
 "nbformat_minor": 5
}
