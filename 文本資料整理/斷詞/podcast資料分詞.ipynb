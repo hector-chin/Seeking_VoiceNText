{
 "cells": [
  {
   "cell_type": "code",
   "execution_count": 1,
   "id": "a31f6623",
   "metadata": {},
   "outputs": [],
   "source": [
    "import json\n",
    "import os\n",
    "from ckiptagger import WS, construct_dictionary"
   ]
  },
  {
   "cell_type": "code",
   "execution_count": 2,
   "id": "616e85b5",
   "metadata": {},
   "outputs": [
    {
     "name": "stderr",
     "output_type": "stream",
     "text": [
      "C:\\Users\\Tibame_T14\\anaconda3\\lib\\site-packages\\ckiptagger\\model_ws.py:106: UserWarning: `tf.nn.rnn_cell.LSTMCell` is deprecated and will be removed in a future version. This class is equivalent as `tf.keras.layers.LSTMCell`, and will be replaced by that in Tensorflow 2.0.\n",
      "  cell = tf.compat.v1.nn.rnn_cell.LSTMCell(hidden_d, name=name)\n",
      "C:\\Users\\Tibame_T14\\anaconda3\\lib\\site-packages\\keras\\layers\\legacy_rnn\\rnn_cell_impl.py:984: UserWarning: `layer.add_variable` is deprecated and will be removed in a future version. Please use `layer.add_weight` method instead.\n",
      "  self._kernel = self.add_variable(\n",
      "C:\\Users\\Tibame_T14\\anaconda3\\lib\\site-packages\\keras\\layers\\legacy_rnn\\rnn_cell_impl.py:993: UserWarning: `layer.add_variable` is deprecated and will be removed in a future version. Please use `layer.add_weight` method instead.\n",
      "  self._bias = self.add_variable(\n"
     ]
    }
   ],
   "source": [
    "ws = WS(\"./data\")"
   ]
  },
  {
   "cell_type": "code",
   "execution_count": 3,
   "id": "d853009a",
   "metadata": {},
   "outputs": [],
   "source": [
    "with open('./worddict.txt', 'r', encoding='utf-8') as f:\n",
    "    worddict = f.read().split('\\n')"
   ]
  },
  {
   "cell_type": "code",
   "execution_count": 4,
   "id": "3d472b98",
   "metadata": {},
   "outputs": [],
   "source": [
    "word_to_weight = {}\n",
    "for i in worddict:\n",
    "    word_to_weight.update({i:1})\n",
    "dictionary = construct_dictionary(word_to_weight)"
   ]
  },
  {
   "cell_type": "code",
   "execution_count": 5,
   "id": "0b99a0f4",
   "metadata": {},
   "outputs": [],
   "source": [
    "with open('./專題/專題資料/PodcastData.json') as f:\n",
    "    podcastdata = json.loads(f.read())"
   ]
  },
  {
   "cell_type": "code",
   "execution_count": 6,
   "id": "94f806ca",
   "metadata": {},
   "outputs": [],
   "source": [
    "podcastwordsegmentlist = []\n",
    "for podcast in podcastdata:\n",
    "    podcastlist = []\n",
    "    title = [podcast['Title']]\n",
    "    titleseg = ws(title, recommend_dictionary = dictionary)\n",
    "    podcastlist.extend(titleseg)\n",
    "    content = podcast['Content'].split('_')\n",
    "    contentseglist = ws(content, recommend_dictionary = dictionary)\n",
    "    contentseg = []\n",
    "    for i in contentseglist:\n",
    "        contentseg.extend(i)\n",
    "    podcastlist.append(contentseg)\n",
    "    podcastwordsegmentlist.append(podcastlist)"
   ]
  },
  {
   "cell_type": "code",
   "execution_count": 19,
   "id": "58e7fccd",
   "metadata": {},
   "outputs": [],
   "source": [
    "podcastwordsegment=[]\n",
    "for index, i in enumerate(podcastwordsegmentlist):\n",
    "    try:\n",
    "        podcastwordsegment.append({'Title': podcastdata[index]['Title'], 'WordSegment': i, 'Category': podcastdata[index]['Category']})\n",
    "    except:\n",
    "        podcastwordsegment.append({'Title': podcastdata[index]['Title'], 'WordSegment': i, 'Category': '寵物'})"
   ]
  },
  {
   "cell_type": "code",
   "execution_count": 20,
   "id": "61cad62e",
   "metadata": {},
   "outputs": [],
   "source": [
    "with open('./專題/專題資料/PodcastWordSegment.json', 'w') as f:\n",
    "    json.dump(podcastwordsegment,f)"
   ]
  },
  {
   "cell_type": "code",
   "execution_count": 21,
   "id": "54cff57d",
   "metadata": {},
   "outputs": [],
   "source": [
    "for index, i in enumerate(podcastdata):\n",
    "    try:\n",
    "        podcastdata[index]['Category']\n",
    "    except:\n",
    "        podcastdata[index].update({'Category': '寵物'})"
   ]
  },
  {
   "cell_type": "code",
   "execution_count": 26,
   "id": "b85ce60e",
   "metadata": {},
   "outputs": [],
   "source": [
    "with open('./專題/專題資料/PodcastData.json', 'w') as f:\n",
    "    json.dump(podcastdata, f)"
   ]
  },
  {
   "cell_type": "code",
   "execution_count": null,
   "id": "c98d8733",
   "metadata": {},
   "outputs": [],
   "source": []
  }
 ],
 "metadata": {
  "kernelspec": {
   "display_name": "Python 3",
   "language": "python",
   "name": "python3"
  },
  "language_info": {
   "codemirror_mode": {
    "name": "ipython",
    "version": 3
   },
   "file_extension": ".py",
   "mimetype": "text/x-python",
   "name": "python",
   "nbconvert_exporter": "python",
   "pygments_lexer": "ipython3",
   "version": "3.8.8"
  }
 },
 "nbformat": 4,
 "nbformat_minor": 5
}
