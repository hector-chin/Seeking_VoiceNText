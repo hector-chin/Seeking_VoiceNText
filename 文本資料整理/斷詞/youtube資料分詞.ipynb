{
 "cells": [
  {
   "cell_type": "code",
   "execution_count": 1,
   "id": "356ff249",
   "metadata": {},
   "outputs": [],
   "source": [
    "import json\n",
    "import os\n",
    "from ckiptagger import WS, construct_dictionary"
   ]
  },
  {
   "cell_type": "code",
   "execution_count": 2,
   "id": "fffee332",
   "metadata": {},
   "outputs": [
    {
     "name": "stderr",
     "output_type": "stream",
     "text": [
      "C:\\Users\\Tibame_T14\\anaconda3\\lib\\site-packages\\ckiptagger\\model_ws.py:106: UserWarning: `tf.nn.rnn_cell.LSTMCell` is deprecated and will be removed in a future version. This class is equivalent as `tf.keras.layers.LSTMCell`, and will be replaced by that in Tensorflow 2.0.\n",
      "  cell = tf.compat.v1.nn.rnn_cell.LSTMCell(hidden_d, name=name)\n",
      "C:\\Users\\Tibame_T14\\anaconda3\\lib\\site-packages\\keras\\layers\\legacy_rnn\\rnn_cell_impl.py:984: UserWarning: `layer.add_variable` is deprecated and will be removed in a future version. Please use `layer.add_weight` method instead.\n",
      "  self._kernel = self.add_variable(\n",
      "C:\\Users\\Tibame_T14\\anaconda3\\lib\\site-packages\\keras\\layers\\legacy_rnn\\rnn_cell_impl.py:993: UserWarning: `layer.add_variable` is deprecated and will be removed in a future version. Please use `layer.add_weight` method instead.\n",
      "  self._bias = self.add_variable(\n"
     ]
    }
   ],
   "source": [
    "ws = WS(\"./data\")"
   ]
  },
  {
   "cell_type": "code",
   "execution_count": 3,
   "id": "79a99ce7",
   "metadata": {},
   "outputs": [],
   "source": [
    "with open('./worddict.txt', 'r', encoding='utf-8') as f:\n",
    "    worddict = f.read().split('\\n')"
   ]
  },
  {
   "cell_type": "code",
   "execution_count": 4,
   "id": "0bd13d43",
   "metadata": {},
   "outputs": [],
   "source": [
    "word_to_weight = {}\n",
    "for i in worddict:\n",
    "    word_to_weight.update({i:1})\n",
    "dictionary = construct_dictionary(word_to_weight)"
   ]
  },
  {
   "cell_type": "code",
   "execution_count": 5,
   "id": "2d0017bb",
   "metadata": {},
   "outputs": [],
   "source": [
    "with open('./專題/專題資料/YoutubeData.json') as f:\n",
    "    youtubedata = json.loads(f.read())"
   ]
  },
  {
   "cell_type": "code",
   "execution_count": 6,
   "id": "a4f91232",
   "metadata": {},
   "outputs": [],
   "source": [
    "youtubewordsegmentlist = []\n",
    "for youtube in youtubedata:\n",
    "    youtubelist = []\n",
    "    title = [youtube['Title']]\n",
    "    titleseg = ws(title, recommend_dictionary = dictionary)\n",
    "    youtubelist.extend(titleseg)\n",
    "    content = youtube['Content'].split('_')\n",
    "    contentseglist = ws(content, recommend_dictionary = dictionary)\n",
    "    contentseg = []\n",
    "    for i in contentseglist:\n",
    "        contentseg.extend(i)\n",
    "    youtubelist.append(contentseg)\n",
    "    youtubewordsegmentlist.append(youtubelist)"
   ]
  },
  {
   "cell_type": "code",
   "execution_count": 7,
   "id": "9044687c",
   "metadata": {},
   "outputs": [],
   "source": [
    "youtubewordsegment=[]\n",
    "for index, i in enumerate(youtubewordsegmentlist):\n",
    "    youtubewordsegment.append({'Title': youtubedata[index]['Title'], 'WordSegment': i, 'Category': youtubedata[index]['Category']})"
   ]
  },
  {
   "cell_type": "code",
   "execution_count": 8,
   "id": "c2e0e7d6",
   "metadata": {},
   "outputs": [],
   "source": [
    "with open('./專題/專題資料/YoutubeWordSegment.json', 'w') as f:\n",
    "    json.dump(youtubewordsegment,f)"
   ]
  },
  {
   "cell_type": "code",
   "execution_count": null,
   "id": "5095b8e3",
   "metadata": {},
   "outputs": [],
   "source": []
  }
 ],
 "metadata": {
  "kernelspec": {
   "display_name": "Python 3",
   "language": "python",
   "name": "python3"
  },
  "language_info": {
   "codemirror_mode": {
    "name": "ipython",
    "version": 3
   },
   "file_extension": ".py",
   "mimetype": "text/x-python",
   "name": "python",
   "nbconvert_exporter": "python",
   "pygments_lexer": "ipython3",
   "version": "3.8.8"
  }
 },
 "nbformat": 4,
 "nbformat_minor": 5
}
