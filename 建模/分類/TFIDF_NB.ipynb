{
 "cells": [
  {
   "cell_type": "code",
   "execution_count": 5,
   "id": "d2c054bf",
   "metadata": {},
   "outputs": [],
   "source": [
    "import json\n",
    "from ckiptagger import construct_dictionary, WS, POS\n",
    "ws = WS(\"./data\")"
   ]
  },
  {
   "cell_type": "code",
   "execution_count": 6,
   "id": "10120d62",
   "metadata": {},
   "outputs": [],
   "source": [
    "with open('./youtube/醫療保健text.json') as f:\n",
    "    data = json.loads(f.read())\n",
    "with open('./stopword.txt', encoding='utf-8') as f:\n",
    "    stop = f.read()"
   ]
  },
  {
   "cell_type": "code",
   "execution_count": 7,
   "id": "48d6e31b",
   "metadata": {},
   "outputs": [],
   "source": [
    "stopword = stop.split('\\n')"
   ]
  },
  {
   "cell_type": "code",
   "execution_count": 8,
   "id": "d348ab45",
   "metadata": {},
   "outputs": [],
   "source": [
    "# 使用分好詞的資料\n",
    "alltext = []\n",
    "for file in data.values():\n",
    "    for name, texts in file.items():\n",
    "        word_sentence_list = ws(list(texts))\n",
    "        text_list = []\n",
    "        for i in range(len(texts)):\n",
    "            for word in word_sentence_list[i]:\n",
    "                if word not in stopword:\n",
    "                    text_list.append(word)\n",
    "        if text_list != []:\n",
    "            alltext.append(text_list)"
   ]
  },
  {
   "cell_type": "code",
   "execution_count": 9,
   "id": "8686b385",
   "metadata": {},
   "outputs": [],
   "source": [
    "# 測試用,所以先隨機給分類\n",
    "import random"
   ]
  },
  {
   "cell_type": "code",
   "execution_count": 10,
   "id": "23f17bfc",
   "metadata": {},
   "outputs": [],
   "source": [
    "y = [str(random.randint(0,3)) for _ in range(len(alltext))]"
   ]
  },
  {
   "cell_type": "code",
   "execution_count": 11,
   "id": "8b2cafc7",
   "metadata": {},
   "outputs": [],
   "source": [
    "# 形成tfidf模型\n",
    "import gensim.downloader as api\n",
    "from gensim.models import TfidfModel\n",
    "from gensim.corpora import Dictionary"
   ]
  },
  {
   "cell_type": "code",
   "execution_count": 12,
   "id": "79511dc7",
   "metadata": {},
   "outputs": [],
   "source": [
    "dct = Dictionary(alltext)"
   ]
  },
  {
   "cell_type": "code",
   "execution_count": 13,
   "id": "95c5368a",
   "metadata": {},
   "outputs": [],
   "source": [
    "corpus = [dct.doc2bow(line) for line in alltext]"
   ]
  },
  {
   "cell_type": "code",
   "execution_count": 14,
   "id": "cc3de526",
   "metadata": {},
   "outputs": [],
   "source": [
    "tfidf = TfidfModel(corpus)"
   ]
  },
  {
   "cell_type": "code",
   "execution_count": 23,
   "id": "d63326a2",
   "metadata": {},
   "outputs": [],
   "source": [
    "# 存讀TfidfModel的方法\n",
    "tfidf.save('tfidfmodel')\n",
    "newtfm = TfidfModel.load('tfidfmodel')"
   ]
  },
  {
   "cell_type": "code",
   "execution_count": 15,
   "id": "e7a6d06d",
   "metadata": {},
   "outputs": [],
   "source": [
    "import pandas as pd\n",
    "# 整理出訓練的資料\n",
    "TFIDF_matrix = tfidf[corpus]\n",
    "traindata = pd.DataFrame(columns=[x for x in range(len(dct))])\n",
    "for index, i in enumerate(TFIDF_matrix):\n",
    "    for x in i:\n",
    "        traindata.loc[index,x[0]] = x[1]\n",
    "traindata = traindata.fillna(0)"
   ]
  },
  {
   "cell_type": "code",
   "execution_count": 18,
   "id": "807ccc11",
   "metadata": {},
   "outputs": [],
   "source": [
    "from sklearn.model_selection import train_test_split\n",
    "X_train,X_test,y_train,y_test= train_test_split(traindata,y,test_size=0.3,random_state=0)"
   ]
  },
  {
   "cell_type": "code",
   "execution_count": 19,
   "id": "734f3676",
   "metadata": {},
   "outputs": [
    {
     "name": "stdout",
     "output_type": "stream",
     "text": [
      "多項分佈樸素貝葉斯，訓練樣本總數： 291 錯誤樣本數 : 3\n",
      "多項分佈樸素貝葉斯，訓練樣本總數： 125 錯誤樣本數 : 86\n"
     ]
    }
   ],
   "source": [
    "from sklearn.naive_bayes import MultinomialNB\n",
    "clf = MultinomialNB()\n",
    "clf = clf.fit(X_train, y_train)\n",
    "y_pred=clf.predict(X_train)\n",
    "y_test_pred = clf.predict(X_test)\n",
    "print(\"多項分佈樸素貝葉斯，訓練樣本總數： %d 錯誤樣本數 : %d\" % (X_train.shape[0],(y_train != y_pred).sum()))\n",
    "print(\"多項分佈樸素貝葉斯，訓練樣本總數： %d 錯誤樣本數 : %d\" % (X_test.shape[0],(y_test != y_test_pred).sum()))"
   ]
  },
  {
   "cell_type": "code",
   "execution_count": 28,
   "id": "3224e18d",
   "metadata": {},
   "outputs": [
    {
     "name": "stdout",
     "output_type": "stream",
     "text": [
      "訓練score 0.9896907216494846\n",
      "測試score 0.312\n"
     ]
    }
   ],
   "source": [
    "from sklearn import metrics\n",
    "print(\"訓練score\",metrics.accuracy_score(y_train, y_pred))\n",
    "print(\"測試score\",metrics.accuracy_score(y_test, y_test_pred))"
   ]
  },
  {
   "cell_type": "code",
   "execution_count": null,
   "id": "4c563c6b",
   "metadata": {},
   "outputs": [],
   "source": [
    "# 存取sklearn的模型\n",
    "import joblib\n",
    "joblib.dump(clf, 'NB_model')\n",
    "loaded_model = joblib.load('NB_model')"
   ]
  },
  {
   "cell_type": "code",
   "execution_count": 29,
   "id": "c3569ea1",
   "metadata": {},
   "outputs": [],
   "source": [
    "traindata.to_csv('traindata',index=False)"
   ]
  }
 ],
 "metadata": {
  "kernelspec": {
   "display_name": "Python 3",
   "language": "python",
   "name": "python3"
  },
  "language_info": {
   "codemirror_mode": {
    "name": "ipython",
    "version": 3
   },
   "file_extension": ".py",
   "mimetype": "text/x-python",
   "name": "python",
   "nbconvert_exporter": "python",
   "pygments_lexer": "ipython3",
   "version": "3.8.8"
  }
 },
 "nbformat": 4,
 "nbformat_minor": 5
}
