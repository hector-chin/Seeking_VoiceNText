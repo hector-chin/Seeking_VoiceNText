{
 "cells": [
  {
   "cell_type": "code",
   "execution_count": 1,
   "id": "5a844543",
   "metadata": {},
   "outputs": [
    {
     "name": "stderr",
     "output_type": "stream",
     "text": [
      "C:\\Users\\Tibame_T14\\anaconda3\\lib\\site-packages\\ckiptagger\\model_ws.py:106: UserWarning: `tf.nn.rnn_cell.LSTMCell` is deprecated and will be removed in a future version. This class is equivalent as `tf.keras.layers.LSTMCell`, and will be replaced by that in Tensorflow 2.0.\n",
      "  cell = tf.compat.v1.nn.rnn_cell.LSTMCell(hidden_d, name=name)\n",
      "C:\\Users\\Tibame_T14\\anaconda3\\lib\\site-packages\\keras\\layers\\legacy_rnn\\rnn_cell_impl.py:984: UserWarning: `layer.add_variable` is deprecated and will be removed in a future version. Please use `layer.add_weight` method instead.\n",
      "  self._kernel = self.add_variable(\n",
      "C:\\Users\\Tibame_T14\\anaconda3\\lib\\site-packages\\keras\\layers\\legacy_rnn\\rnn_cell_impl.py:993: UserWarning: `layer.add_variable` is deprecated and will be removed in a future version. Please use `layer.add_weight` method instead.\n",
      "  self._bias = self.add_variable(\n"
     ]
    }
   ],
   "source": [
    "import json\n",
    "from ckiptagger import construct_dictionary, WS, POS\n",
    "ws = WS(\"./data\")"
   ]
  },
  {
   "cell_type": "code",
   "execution_count": 2,
   "id": "1c9ea98d",
   "metadata": {},
   "outputs": [],
   "source": [
    "with open('./youtube/醫療保健text.json') as f:\n",
    "    data = json.loads(f.read())\n",
    "with open('./stopword.txt', encoding='utf-8') as f:\n",
    "    stop = f.read()"
   ]
  },
  {
   "cell_type": "code",
   "execution_count": 3,
   "id": "048494a0",
   "metadata": {},
   "outputs": [],
   "source": [
    "stopword = stop.split('\\n')"
   ]
  },
  {
   "cell_type": "code",
   "execution_count": 4,
   "id": "86976174",
   "metadata": {},
   "outputs": [],
   "source": [
    "# 使用分好詞的資料\n",
    "alltext = []\n",
    "for file in data.values():\n",
    "    for name, texts in file.items():\n",
    "        word_sentence_list = ws(list(texts))\n",
    "        text_list = []\n",
    "        for i in range(len(texts)):\n",
    "            for word in word_sentence_list[i]:\n",
    "                if word not in stopword:\n",
    "                    text_list.append(word)\n",
    "        if text_list != []:\n",
    "            alltext.append(text_list)"
   ]
  },
  {
   "cell_type": "code",
   "execution_count": 6,
   "id": "327d2e58",
   "metadata": {},
   "outputs": [],
   "source": [
    "from gensim.models import Word2Vec"
   ]
  },
  {
   "cell_type": "code",
   "execution_count": 42,
   "id": "02e9f948",
   "metadata": {},
   "outputs": [],
   "source": [
    "model = Word2Vec(sentences=alltext, min_count=1, workers=4)"
   ]
  },
  {
   "cell_type": "code",
   "execution_count": 43,
   "id": "4ff318b3",
   "metadata": {},
   "outputs": [],
   "source": [
    "from gensim.similarities import WordEmbeddingSimilarityIndex"
   ]
  },
  {
   "cell_type": "code",
   "execution_count": 44,
   "id": "b1236c09",
   "metadata": {},
   "outputs": [],
   "source": [
    "termsim_index = WordEmbeddingSimilarityIndex(model.wv)"
   ]
  },
  {
   "cell_type": "code",
   "execution_count": 45,
   "id": "c9167518",
   "metadata": {},
   "outputs": [],
   "source": [
    "from gensim.corpora import Dictionary"
   ]
  },
  {
   "cell_type": "code",
   "execution_count": 46,
   "id": "a728aa26",
   "metadata": {},
   "outputs": [],
   "source": [
    "dictionary = Dictionary(alltext)"
   ]
  },
  {
   "cell_type": "code",
   "execution_count": 47,
   "id": "b6d93d73",
   "metadata": {},
   "outputs": [],
   "source": [
    "bow_corpus = [dictionary.doc2bow(document) for document in alltext]"
   ]
  },
  {
   "cell_type": "code",
   "execution_count": 48,
   "id": "1da0d1bc",
   "metadata": {},
   "outputs": [],
   "source": [
    "from gensim.similarities import SoftCosineSimilarity, SparseTermSimilarityMatrix"
   ]
  },
  {
   "cell_type": "code",
   "execution_count": 49,
   "id": "5dc284d9",
   "metadata": {},
   "outputs": [
    {
     "name": "stderr",
     "output_type": "stream",
     "text": [
      "100%|███████████████████████████████████████████████████████████████████████████| 26687/26687 [00:50<00:00, 527.94it/s]\n"
     ]
    }
   ],
   "source": [
    "similarity_matrix = SparseTermSimilarityMatrix(termsim_index, dictionary)\n",
    "docsim_index = SoftCosineSimilarity(bow_corpus, similarity_matrix)"
   ]
  },
  {
   "cell_type": "code",
   "execution_count": 50,
   "id": "69faf512",
   "metadata": {},
   "outputs": [
    {
     "data": {
      "text/plain": [
       "array([0.9241805 , 0.8964102 , 1.        , 1.        , 1.        ,\n",
       "       0.84100103, 0.9258647 , 0.92797804, 0.88928807, 0.88125074,\n",
       "       0.91989326, 0.9914752 , 0.9784206 , 0.6837492 , 0.92366385,\n",
       "       0.83623815, 0.95644116, 0.9360825 , 0.9879719 , 1.        ,\n",
       "       1.        , 0.98929095, 0.8474557 , 0.8002254 , 0.77783054,\n",
       "       1.        , 0.95105344, 0.90492594, 0.9988092 , 1.        ,\n",
       "       0.8589978 , 0.8749839 , 0.9739026 , 0.8430411 , 0.952969  ,\n",
       "       1.        , 1.        , 0.867091  , 0.98867935, 0.9014647 ,\n",
       "       0.98143166, 0.833838  , 0.9139205 , 0.9005903 , 0.95796204,\n",
       "       0.94906855, 0.76047873, 0.8324393 , 0.82797366, 0.80107266,\n",
       "       0.92393607, 0.8427716 , 1.        , 0.9072678 , 0.96913815,\n",
       "       0.8937018 , 0.90210193, 0.81601787, 0.8405052 , 0.94213027,\n",
       "       0.88259524, 0.8299928 , 0.76692617, 0.87744164, 0.7344234 ,\n",
       "       0.5995979 , 0.8409891 , 0.        , 0.96803945, 0.89157915,\n",
       "       0.847083  , 1.        , 0.7660976 , 0.8356306 , 0.8934434 ,\n",
       "       0.91420114, 0.7948794 , 0.8664782 , 0.8735457 , 0.72249943,\n",
       "       0.8905137 , 0.68731034, 0.8926464 , 0.7801899 , 0.8480262 ,\n",
       "       0.87022233, 0.7407689 , 0.82011783, 0.7389747 , 0.9375595 ,\n",
       "       0.7541959 , 0.9300245 , 0.9417528 , 0.805035  , 0.8633532 ,\n",
       "       0.6500084 , 0.8336849 , 0.8119996 , 0.80370486, 0.9210875 ,\n",
       "       0.86907077, 0.78143877, 0.82141566, 0.913084  , 0.9875767 ,\n",
       "       0.80370665, 0.9308559 , 0.8997253 , 0.9012811 , 0.8364069 ,\n",
       "       0.85652936, 0.8370513 , 0.90370786, 0.93404925, 0.919021  ,\n",
       "       0.8074988 , 0.8697989 , 0.9946053 , 0.74312294, 0.798329  ,\n",
       "       0.9078449 , 0.76121247, 0.77810574, 0.7450912 , 0.81774473,\n",
       "       0.66634977, 0.88995445, 0.7476206 , 0.9227572 , 0.75884897,\n",
       "       0.7551784 , 0.7758544 , 0.72744274, 0.78124195, 0.76875365,\n",
       "       0.71464956, 0.9890645 , 0.        , 0.6320903 , 0.9925169 ,\n",
       "       0.9465612 , 0.94718176, 0.81267047, 0.        , 0.83910465,\n",
       "       0.89261085, 0.        , 0.44715846, 0.8706623 , 0.9134413 ,\n",
       "       1.        , 0.9633381 , 0.78847903, 0.9407593 , 0.69752634,\n",
       "       0.8882736 , 0.9120631 , 0.8968427 , 0.88715637, 0.9436176 ,\n",
       "       0.96730614, 0.8920824 , 0.8380989 , 0.8004757 , 0.9527761 ,\n",
       "       0.9688575 , 0.9302574 , 0.8055183 , 0.86089516, 0.779081  ,\n",
       "       1.        , 0.9323262 , 0.900401  , 0.8506359 , 0.94095623,\n",
       "       0.83240354, 0.9417233 , 0.7957878 , 0.92795634, 0.8983985 ,\n",
       "       0.83082867, 0.9892839 , 1.        , 0.87593967, 0.8408396 ,\n",
       "       0.78572   , 0.8439511 , 1.        , 0.80115867, 0.8860847 ,\n",
       "       0.94578576, 0.8718183 , 0.80940473, 1.        , 0.80337465,\n",
       "       0.92829514, 0.8639288 , 1.        , 0.80263287, 0.9261188 ,\n",
       "       0.9692302 , 0.89165777, 0.8839482 , 0.8380735 , 0.83007175,\n",
       "       0.9757828 , 0.8966323 , 0.897069  , 0.8059603 , 0.8159569 ,\n",
       "       0.9825332 , 0.7890246 , 0.7299336 , 0.7823211 , 0.96190405,\n",
       "       0.7470001 , 0.7778045 , 0.65735424, 0.88862115, 0.7257025 ,\n",
       "       0.7588928 , 0.8158145 , 0.94722956, 0.87371707, 0.81463057,\n",
       "       0.8635633 , 0.9963972 , 0.6589366 , 0.9370972 , 0.7742563 ,\n",
       "       0.84485763, 0.84860957, 0.8697565 , 0.8013104 , 0.6440517 ,\n",
       "       0.870049  , 0.8541766 , 0.9730218 , 0.63194454, 0.83636546,\n",
       "       1.        , 0.4470064 , 0.44699946, 0.59963155, 0.8081342 ,\n",
       "       0.80032706, 0.85747135, 0.76023716, 0.8705646 , 0.6764264 ,\n",
       "       0.8734737 , 0.7766839 , 0.7241777 , 0.7858262 , 0.90823257,\n",
       "       0.6879351 , 0.8244023 , 0.8772223 , 0.85907054, 0.84794354,\n",
       "       0.8740406 , 0.7261825 , 0.75879407, 0.9773462 , 0.81749165,\n",
       "       0.8512033 , 0.86835563, 0.7599788 , 0.75973517, 0.93100804,\n",
       "       0.851341  , 0.79140884, 0.8841277 , 0.8678012 , 0.81293017,\n",
       "       0.87491393, 0.79045576, 0.9666581 , 0.73768175, 0.56255877,\n",
       "       0.44686773, 0.6884507 , 0.96679497, 0.9117364 , 0.84237957,\n",
       "       0.77358437, 0.9988462 , 0.44697312, 0.76972187, 0.5995498 ,\n",
       "       0.44697616, 0.6770443 , 0.70437104, 0.5272364 , 0.663994  ,\n",
       "       0.6624252 , 0.6504979 , 0.64840174, 0.62336487, 0.84493387,\n",
       "       0.64563864, 0.7602006 , 0.8149687 , 0.6316273 , 0.682422  ,\n",
       "       0.5421461 , 0.80470407, 0.76742196, 0.74169004, 0.9971923 ,\n",
       "       0.71266043, 0.56395864, 0.8794132 , 0.66700816, 0.730088  ,\n",
       "       0.60558575, 0.89362293, 0.7941593 , 0.8231256 , 0.79899824,\n",
       "       0.9572731 , 0.5068204 , 0.44683868, 0.8191048 , 0.8187094 ,\n",
       "       0.5769944 , 0.8858993 , 0.61496043, 0.774217  , 0.84924006,\n",
       "       0.60680073, 0.        , 0.7444206 , 0.66163707, 0.71629167,\n",
       "       0.77422893, 0.70629454, 0.7020999 , 0.75057334, 0.89400613,\n",
       "       0.44573924, 0.563639  , 0.5994655 , 0.65054333, 0.8252592 ,\n",
       "       0.        , 0.        , 0.8547399 , 0.62651455, 0.8293002 ,\n",
       "       0.7597427 , 0.65864134, 0.7955407 , 0.55314344, 0.83888733,\n",
       "       0.7606    , 0.9368379 , 1.        , 0.65257144, 0.6885959 ,\n",
       "       0.7239152 , 0.59403497, 0.79279625, 0.77709305, 0.9478356 ,\n",
       "       0.44691926, 0.8005886 , 0.        , 0.        , 0.        ,\n",
       "       0.82311803, 0.92226315, 0.44689763, 0.7435342 , 0.63216734,\n",
       "       0.694546  , 0.8278569 , 0.7556589 , 0.6322305 , 0.5446565 ,\n",
       "       0.7151853 , 0.5805632 , 0.67347234, 0.6308011 , 0.7205096 ,\n",
       "       0.8078798 , 0.77410614, 0.44693148, 0.52716756, 0.82514316,\n",
       "       0.9726361 , 0.7547364 , 0.8800832 , 0.7101657 , 0.9464098 ,\n",
       "       0.98881775, 1.        , 0.8610995 , 0.89879   , 0.9020689 ,\n",
       "       1.        , 0.7710724 , 0.884624  , 0.95515454, 0.92638034,\n",
       "       0.8657961 , 0.95106184, 0.7648643 , 0.7993243 , 0.82098776,\n",
       "       0.92672473, 0.89588827, 0.9589305 , 0.8008497 , 0.8767834 ,\n",
       "       0.83611065], dtype=float32)"
      ]
     },
     "execution_count": 50,
     "metadata": {},
     "output_type": "execute_result"
    }
   ],
   "source": [
    "sims = docsim_index[dictionary.doc2bow(['瘦身','健康','減脂'])]\n",
    "sims"
   ]
  },
  {
   "cell_type": "code",
   "execution_count": 64,
   "id": "ae851903",
   "metadata": {},
   "outputs": [
    {
     "data": {
      "text/plain": [
       "[('重點', 0.9997672438621521),\n",
       " ('不錯', 0.9997509717941284),\n",
       " ('介紹', 0.999735414981842),\n",
       " ('完全', 0.9997349381446838),\n",
       " ('平常', 0.9997339844703674),\n",
       " ('相信', 0.9997309446334839),\n",
       " ('辦法', 0.9997294545173645),\n",
       " ('控制', 0.9997289180755615),\n",
       " ('話', 0.9997275471687317),\n",
       " ('ok', 0.9997250437736511)]"
      ]
     },
     "execution_count": 64,
     "metadata": {},
     "output_type": "execute_result"
    }
   ],
   "source": [
    "model.wv.most_similar(['瘦身','健康','減脂'])"
   ]
  },
  {
   "cell_type": "code",
   "execution_count": 66,
   "id": "ad68e618",
   "metadata": {},
   "outputs": [
    {
     "data": {
      "text/plain": [
       "[('穿', 0.9989466071128845),\n",
       " ('換', 0.9989323616027832),\n",
       " ('毛孔', 0.9989060163497925),\n",
       " ('防曬', 0.9989004731178284),\n",
       " ('重點', 0.9988945126533508),\n",
       " ('新', 0.998885989189148),\n",
       " ('美白', 0.998884379863739),\n",
       " ('12', 0.9988680481910706),\n",
       " ('心', 0.9988675713539124),\n",
       " ('製作', 0.9988542199134827)]"
      ]
     },
     "execution_count": 66,
     "metadata": {},
     "output_type": "execute_result"
    }
   ],
   "source": [
    "model.wv.similar_by_word('瘦身')"
   ]
  },
  {
   "cell_type": "code",
   "execution_count": 92,
   "id": "02aab260",
   "metadata": {},
   "outputs": [],
   "source": [
    "import numpy as np\n",
    "doc = np.array([model.wv[alltext[i]].mean(axis=0) for i in range(len(alltext))])"
   ]
  },
  {
   "cell_type": "code",
   "execution_count": 96,
   "id": "94dffe7e",
   "metadata": {},
   "outputs": [],
   "source": [
    "import pandas as pd\n",
    "data = pd.DataFrame(doc)"
   ]
  },
  {
   "cell_type": "code",
   "execution_count": 98,
   "id": "0f36b65b",
   "metadata": {},
   "outputs": [],
   "source": [
    "data.to_csv('w2vmeandata')"
   ]
  },
  {
   "cell_type": "code",
   "execution_count": 100,
   "id": "d4c5837d",
   "metadata": {},
   "outputs": [],
   "source": [
    "from gensim.models import TfidfModel"
   ]
  },
  {
   "cell_type": "code",
   "execution_count": 101,
   "id": "17c53173",
   "metadata": {},
   "outputs": [],
   "source": [
    "model2 = TfidfModel(bow_corpus)"
   ]
  },
  {
   "cell_type": "code",
   "execution_count": 132,
   "id": "01b5868e",
   "metadata": {},
   "outputs": [],
   "source": [
    "data2 = []\n",
    "for i in range(len(alltext)):\n",
    "    s = np.array([0 for _ in range(100)],dtype='float32')\n",
    "    d = dictionary.doc2idx(alltext[i])\n",
    "    vector = dict(model2[bow_corpus[i]])\n",
    "    to = 0\n",
    "    for l in range(len(alltext[i])):\n",
    "        s += model.wv[alltext[i][l]]*vector[d[l]]\n",
    "        to += vector[d[l]]\n",
    "    s /= to\n",
    "    data2.append(s)"
   ]
  },
  {
   "cell_type": "code",
   "execution_count": 138,
   "id": "c24ab00a",
   "metadata": {},
   "outputs": [],
   "source": [
    "data2 = pd.DataFrame(data2)"
   ]
  },
  {
   "cell_type": "code",
   "execution_count": 140,
   "id": "963b9674",
   "metadata": {},
   "outputs": [],
   "source": [
    "data2.to_csv('w2vtfidfdata')"
   ]
  },
  {
   "cell_type": "code",
   "execution_count": null,
   "id": "93cb3fcc",
   "metadata": {},
   "outputs": [],
   "source": []
  }
 ],
 "metadata": {
  "kernelspec": {
   "display_name": "Python 3",
   "language": "python",
   "name": "python3"
  },
  "language_info": {
   "codemirror_mode": {
    "name": "ipython",
    "version": 3
   },
   "file_extension": ".py",
   "mimetype": "text/x-python",
   "name": "python",
   "nbconvert_exporter": "python",
   "pygments_lexer": "ipython3",
   "version": "3.8.8"
  }
 },
 "nbformat": 4,
 "nbformat_minor": 5
}
