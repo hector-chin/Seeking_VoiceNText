{
 "cells": [
  {
   "cell_type": "code",
   "execution_count": 4,
   "id": "ad73e0e4",
   "metadata": {},
   "outputs": [],
   "source": [
    "import pandas as pd\n",
    "data = pd.read_csv('traindata2')"
   ]
  },
  {
   "cell_type": "code",
   "execution_count": 5,
   "id": "5b6aaa0e",
   "metadata": {},
   "outputs": [],
   "source": [
    "alltext = []\n",
    "for i in data['text']:\n",
    "    tl = i.split(' ')\n",
    "    alltext.append(tl)"
   ]
  },
  {
   "cell_type": "code",
   "execution_count": 6,
   "id": "219419c6",
   "metadata": {},
   "outputs": [],
   "source": [
    "from gensim.corpora import Dictionary\n",
    "dct = Dictionary(alltext)"
   ]
  },
  {
   "cell_type": "code",
   "execution_count": 7,
   "id": "2a30c83a",
   "metadata": {},
   "outputs": [],
   "source": [
    "from keras.preprocessing import sequence\n",
    "X = [dct.doc2idx(txt) for txt in alltext]\n",
    "# X =sequence.pad_sequences(X, padding='post', value=len(dct))"
   ]
  },
  {
   "cell_type": "code",
   "execution_count": 8,
   "id": "83cba60a",
   "metadata": {},
   "outputs": [],
   "source": [
    "from sklearn.model_selection import train_test_split\n",
    "X_train,X_test,y_train,y_test= train_test_split(X,data.iloc[:,-1],test_size=0.3,random_state=0)"
   ]
  },
  {
   "cell_type": "code",
   "execution_count": 9,
   "id": "3e9dbacd",
   "metadata": {},
   "outputs": [],
   "source": [
    "X_train_padded_seqs = sequence.pad_sequences(X_train, padding='post', maxlen=max([len(x) for x in X]), value=len(dct))\n",
    "X_test_padded_seqs = sequence.pad_sequences(X_test, padding='post', maxlen=max([len(x) for x in X]), value=len(dct))\n",
    "\n",
    "left_train_word_ids = [[len(dct)] + x[:-1] for x in X_train]\n",
    "left_test_word_ids = [[len(dct)] + x[:-1] for x in X_test]\n",
    "right_train_word_ids = [x[1:] + [len(dct)] for x in X_train]\n",
    "right_test_word_ids = [x[1:] + [len(dct)] for x in X_test]\n",
    "\n",
    "# 分別對左邊和右邊的詞進行編碼\n",
    "left_train_padded_seqs = sequence.pad_sequences(left_train_word_ids, padding='post', maxlen=max([len(x) for x in X]), value=len(dct))\n",
    "left_test_padded_seqs = sequence.pad_sequences(left_test_word_ids, padding='post', maxlen=max([len(x) for x in X]), value=len(dct))\n",
    "right_train_padded_seqs = sequence.pad_sequences(right_train_word_ids, padding='post', maxlen=max([len(x) for x in X]), value=len(dct))\n",
    "right_test_padded_seqs = sequence.pad_sequences(right_test_word_ids, padding='post', maxlen=max([len(x) for x in X]), value=len(dct))"
   ]
  },
  {
   "cell_type": "code",
   "execution_count": 10,
   "id": "726ba174",
   "metadata": {},
   "outputs": [],
   "source": [
    "from keras.layers import Input\n",
    "from keras.layers import Embedding\n",
    "from keras.layers import LSTM\n",
    "from keras.layers.merge import concatenate\n",
    "from keras.layers import TimeDistributed\n",
    "from keras.layers import Lambda\n",
    "from keras import backend\n",
    "from keras.layers import Dense\n",
    "from keras.models import Model"
   ]
  },
  {
   "cell_type": "code",
   "execution_count": 11,
   "id": "fac74ed2",
   "metadata": {},
   "outputs": [
    {
     "name": "stdout",
     "output_type": "stream",
     "text": [
      "Model: \"model\"\n",
      "__________________________________________________________________________________________________\n",
      " Layer (type)                   Output Shape         Param #     Connected to                     \n",
      "==================================================================================================\n",
      " input_5 (InputLayer)           [(None, None)]       0           []                               \n",
      "                                                                                                  \n",
      " input_4 (InputLayer)           [(None, None)]       0           []                               \n",
      "                                                                                                  \n",
      " input_6 (InputLayer)           [(None, None)]       0           []                               \n",
      "                                                                                                  \n",
      " embedding (Embedding)          (None, None, 300)    8018400     ['input_4[0][0]',                \n",
      "                                                                  'input_5[0][0]',                \n",
      "                                                                  'input_6[0][0]']                \n",
      "                                                                                                  \n",
      " lstm (LSTM)                    (None, None, 256)    570368      ['embedding[1][0]']              \n",
      "                                                                                                  \n",
      " lstm_1 (LSTM)                  (None, None, 256)    570368      ['embedding[2][0]']              \n",
      "                                                                                                  \n",
      " concatenate (Concatenate)      (None, None, 812)    0           ['lstm[0][0]',                   \n",
      "                                                                  'embedding[0][0]',              \n",
      "                                                                  'lstm_1[0][0]']                 \n",
      "                                                                                                  \n",
      " time_distributed (TimeDistribu  (None, None, 128)   104064      ['concatenate[0][0]']            \n",
      " ted)                                                                                             \n",
      "                                                                                                  \n",
      " lambda (Lambda)                (None, 128)          0           ['time_distributed[0][0]']       \n",
      "                                                                                                  \n",
      " dense_1 (Dense)                (None, 4)            516         ['lambda[0][0]']                 \n",
      "                                                                                                  \n",
      "==================================================================================================\n",
      "Total params: 9,263,716\n",
      "Trainable params: 9,263,716\n",
      "Non-trainable params: 0\n",
      "__________________________________________________________________________________________________\n"
     ]
    }
   ],
   "source": [
    "# 模型共有三個輸入，分別是左詞，右詞和中心詞\n",
    "document = Input(shape = (None, ))\n",
    "left_context = Input(shape = (None, ))\n",
    "right_context = Input(shape = (None, ))\n",
    "\n",
    "# 構建詞向量\n",
    "embedder = Embedding(len(dct) + 1, 300, input_length = max([len(x) for x in X]))\n",
    "doc_embedding = embedder(document)\n",
    "l_embedding = embedder(left_context)\n",
    "r_embedding = embedder(right_context)\n",
    "\n",
    "forward = LSTM(256, return_sequences = True)(l_embedding) \n",
    "backward = LSTM(256, return_sequences = True, go_backwards = True)(r_embedding) \n",
    "together = concatenate([forward, doc_embedding, backward], axis = 2)\n",
    "\n",
    "semantic = TimeDistributed(Dense(128, activation = \"tanh\"))(together)\n",
    "\n",
    "pool_rnn = Lambda(lambda x: backend.max(x, axis = 1), output_shape = (128, ))(semantic) \n",
    "output = Dense(4, activation = \"softmax\")(pool_rnn)\n",
    "model = Model(inputs = [document, left_context, right_context], outputs = output)\n",
    "model.summary()\n",
    "model.compile(loss=\"sparse_categorical_crossentropy\",optimizer=\"adam\",metrics=[\"accuracy\"])"
   ]
  },
  {
   "cell_type": "code",
   "execution_count": 12,
   "id": "a681ab39",
   "metadata": {},
   "outputs": [
    {
     "name": "stdout",
     "output_type": "stream",
     "text": [
      "Epoch 1/10\n",
      "9/9 [==============================] - 273s 31s/step - loss: 1.3947 - accuracy: 0.2529 - val_loss: 1.3957 - val_accuracy: 0.1667\n",
      "Epoch 2/10\n",
      "9/9 [==============================] - 292s 32s/step - loss: 1.2838 - accuracy: 0.6169 - val_loss: 1.3777 - val_accuracy: 0.2667\n",
      "Epoch 3/10\n",
      "9/9 [==============================] - 290s 32s/step - loss: 1.1749 - accuracy: 0.8276 - val_loss: 1.3721 - val_accuracy: 0.2000\n",
      "Epoch 4/10\n",
      "9/9 [==============================] - 591s 69s/step - loss: 1.0445 - accuracy: 0.8008 - val_loss: 1.6666 - val_accuracy: 0.2667\n",
      "Epoch 5/10\n",
      "9/9 [==============================] - 291s 32s/step - loss: 1.1499 - accuracy: 0.6092 - val_loss: 1.3230 - val_accuracy: 0.4667\n",
      "Epoch 6/10\n",
      "9/9 [==============================] - 291s 32s/step - loss: 0.8547 - accuracy: 0.9693 - val_loss: 1.3477 - val_accuracy: 0.4000\n",
      "Epoch 7/10\n",
      "9/9 [==============================] - 310s 34s/step - loss: 0.6722 - accuracy: 0.9885 - val_loss: 1.3898 - val_accuracy: 0.3000\n",
      "Epoch 8/10\n",
      "9/9 [==============================] - 339s 37s/step - loss: 0.5025 - accuracy: 0.9693 - val_loss: 1.4600 - val_accuracy: 0.2333\n",
      "Epoch 9/10\n",
      "9/9 [==============================] - 298s 33s/step - loss: 0.3927 - accuracy: 0.9962 - val_loss: 1.4938 - val_accuracy: 0.1333\n",
      "Epoch 10/10\n",
      "9/9 [==============================] - 382s 43s/step - loss: 0.2828 - accuracy: 0.9923 - val_loss: 1.4169 - val_accuracy: 0.3667\n"
     ]
    },
    {
     "data": {
      "text/plain": [
       "<keras.callbacks.History at 0x1ad32b36f70>"
      ]
     },
     "execution_count": 12,
     "metadata": {},
     "output_type": "execute_result"
    }
   ],
   "source": [
    "model.fit([X_train_padded_seqs, left_train_padded_seqs, right_train_padded_seqs], y_train, validation_split=0.1, epochs=10, verbose=1)"
   ]
  },
  {
   "cell_type": "code",
   "execution_count": 12,
   "id": "589e492a",
   "metadata": {},
   "outputs": [
    {
     "name": "stdout",
     "output_type": "stream",
     "text": [
      "13/13 [==============================] - 11s 852ms/step - loss: 1.9261 - accuracy: 0.1920\n"
     ]
    },
    {
     "data": {
      "text/plain": [
       "[1.9261211156845093, 0.19200000166893005]"
      ]
     },
     "execution_count": 12,
     "metadata": {},
     "output_type": "execute_result"
    }
   ],
   "source": [
    "model.evaluate([X_test_padded_seqs, left_test_padded_seqs, right_test_padded_seqs], y_test ,batch_size=10)"
   ]
  },
  {
   "cell_type": "code",
   "execution_count": 13,
   "id": "18e43c58",
   "metadata": {},
   "outputs": [
    {
     "data": {
      "text/plain": [
       "array([[0.3506575 , 0.2043105 , 0.2936441 , 0.15138793],\n",
       "       [0.28047124, 0.6399319 , 0.03927177, 0.04032504],\n",
       "       [0.0954985 , 0.07138278, 0.60311   , 0.23000872],\n",
       "       [0.20593175, 0.13669425, 0.15304764, 0.50432634],\n",
       "       [0.44682813, 0.5175354 , 0.01896965, 0.01666683],\n",
       "       [0.24265702, 0.39784387, 0.12719049, 0.23230861],\n",
       "       [0.12921044, 0.07024639, 0.35202482, 0.4485184 ],\n",
       "       [0.43140352, 0.52141434, 0.01785414, 0.02932801],\n",
       "       [0.18947117, 0.1799854 , 0.34334958, 0.28719386],\n",
       "       [0.28650007, 0.13657309, 0.28635538, 0.29057145],\n",
       "       [0.10012407, 0.08231197, 0.38097516, 0.43658876],\n",
       "       [0.16419315, 0.09561237, 0.39145693, 0.34873757],\n",
       "       [0.19202197, 0.16564211, 0.3191769 , 0.32315907],\n",
       "       [0.19305083, 0.7717174 , 0.02621903, 0.00901268],\n",
       "       [0.09762999, 0.07569057, 0.5960233 , 0.23065616],\n",
       "       [0.4938917 , 0.34562767, 0.0866355 , 0.07384519],\n",
       "       [0.14206946, 0.15542956, 0.5223737 , 0.18012732],\n",
       "       [0.4277156 , 0.4701517 , 0.06021965, 0.04191314],\n",
       "       [0.2515869 , 0.20954688, 0.26431337, 0.2745529 ],\n",
       "       [0.28486934, 0.6263473 , 0.05841253, 0.03037085],\n",
       "       [0.2063071 , 0.10377997, 0.15378852, 0.5361244 ],\n",
       "       [0.13956401, 0.09343214, 0.43462497, 0.3323789 ],\n",
       "       [0.4820675 , 0.46021432, 0.02246659, 0.03525161],\n",
       "       [0.37676728, 0.5817062 , 0.02638889, 0.01513763],\n",
       "       [0.17826916, 0.16926114, 0.40014422, 0.2523255 ],\n",
       "       [0.16641748, 0.17324626, 0.36140054, 0.29893574],\n",
       "       [0.12152205, 0.07226858, 0.3652893 , 0.44092014],\n",
       "       [0.27761665, 0.6556117 , 0.03049473, 0.03627693],\n",
       "       [0.01088929, 0.01183743, 0.93944913, 0.03782408],\n",
       "       [0.13710602, 0.12251918, 0.29837146, 0.44200334],\n",
       "       [0.10738563, 0.16020134, 0.56181234, 0.17060073],\n",
       "       [0.3803242 , 0.36151892, 0.1411503 , 0.11700664],\n",
       "       [0.29878384, 0.6591099 , 0.03037975, 0.01172652],\n",
       "       [0.2816403 , 0.6877022 , 0.01564727, 0.01501018],\n",
       "       [0.13292119, 0.10861399, 0.4215035 , 0.33696124],\n",
       "       [0.49793598, 0.4753821 , 0.01466647, 0.01201543],\n",
       "       [0.27357975, 0.17772405, 0.24826145, 0.3004348 ],\n",
       "       [0.12589869, 0.11341911, 0.52128834, 0.23939389],\n",
       "       [0.12132443, 0.06750728, 0.27297458, 0.5381937 ],\n",
       "       [0.34853494, 0.6195695 , 0.0179967 , 0.0138988 ],\n",
       "       [0.30571708, 0.6554989 , 0.02126136, 0.01752263],\n",
       "       [0.5450382 , 0.42170185, 0.01576234, 0.01749755],\n",
       "       [0.43757734, 0.31989205, 0.11885466, 0.12367591],\n",
       "       [0.14896558, 0.09574388, 0.5020079 , 0.25328264],\n",
       "       [0.25715044, 0.19106323, 0.25670514, 0.29508123],\n",
       "       [0.33900586, 0.58698523, 0.04561125, 0.02839766],\n",
       "       [0.20040904, 0.22447318, 0.4072113 , 0.1679064 ],\n",
       "       [0.11952578, 0.11207046, 0.50923204, 0.25917175],\n",
       "       [0.5444209 , 0.3829361 , 0.03382915, 0.03881381],\n",
       "       [0.33257207, 0.58457804, 0.0343319 , 0.04851807],\n",
       "       [0.37853968, 0.5934262 , 0.01471523, 0.01331882],\n",
       "       [0.2773433 , 0.66247094, 0.03011966, 0.03006607],\n",
       "       [0.32328588, 0.2546918 , 0.2629868 , 0.1590355 ],\n",
       "       [0.10700563, 0.04297325, 0.14608668, 0.70393443],\n",
       "       [0.25656304, 0.2076158 , 0.30578753, 0.23003362],\n",
       "       [0.41089547, 0.5234936 , 0.04580922, 0.01980168],\n",
       "       [0.54304045, 0.3285835 , 0.05723687, 0.07113918],\n",
       "       [0.08760796, 0.07801834, 0.41903076, 0.41534293],\n",
       "       [0.4414961 , 0.41544092, 0.07033151, 0.07273138],\n",
       "       [0.30685428, 0.61127675, 0.04748347, 0.03438547],\n",
       "       [0.18890354, 0.22956142, 0.3691768 , 0.21235825],\n",
       "       [0.26148543, 0.7089268 , 0.01072486, 0.01886293],\n",
       "       [0.12456821, 0.12423205, 0.35003263, 0.40116715],\n",
       "       [0.1490939 , 0.12169119, 0.46945602, 0.259759  ],\n",
       "       [0.05193671, 0.06941714, 0.6024416 , 0.2762045 ],\n",
       "       [0.08310593, 0.05456371, 0.2637053 , 0.59862506],\n",
       "       [0.32929346, 0.61008626, 0.04539145, 0.01522886],\n",
       "       [0.42219374, 0.4348114 , 0.09475163, 0.0482432 ],\n",
       "       [0.427447  , 0.4831772 , 0.06328803, 0.0260878 ],\n",
       "       [0.2203285 , 0.290274  , 0.21175711, 0.2776405 ],\n",
       "       [0.2542619 , 0.1367835 , 0.22330047, 0.38565412],\n",
       "       [0.37893137, 0.4913988 , 0.05762613, 0.07204362],\n",
       "       [0.46928525, 0.47331542, 0.01964983, 0.03774955],\n",
       "       [0.2210295 , 0.13429992, 0.33774757, 0.30692303],\n",
       "       [0.40278542, 0.49985632, 0.04969593, 0.04766231],\n",
       "       [0.32671958, 0.19024956, 0.21660703, 0.2664239 ],\n",
       "       [0.15058602, 0.2769822 , 0.34141374, 0.231018  ],\n",
       "       [0.2552402 , 0.32293895, 0.250813  , 0.17100777],\n",
       "       [0.40204653, 0.5435882 , 0.0314186 , 0.02294665],\n",
       "       [0.3239207 , 0.3074084 , 0.20715766, 0.16151325],\n",
       "       [0.06354336, 0.04325863, 0.33626816, 0.5569299 ],\n",
       "       [0.1787591 , 0.20004092, 0.25503582, 0.36616415],\n",
       "       [0.17745402, 0.08988617, 0.14046052, 0.59219927],\n",
       "       [0.20411843, 0.14275609, 0.3136198 , 0.33950573],\n",
       "       [0.48360866, 0.4399328 , 0.04401942, 0.03243906],\n",
       "       [0.3962293 , 0.48565635, 0.09615065, 0.0219637 ],\n",
       "       [0.12752694, 0.13926063, 0.40892124, 0.3242912 ],\n",
       "       [0.22085327, 0.16150913, 0.29788846, 0.31974912],\n",
       "       [0.45082867, 0.4657715 , 0.0386411 , 0.04475869],\n",
       "       [0.1358814 , 0.12803212, 0.3913975 , 0.34468907],\n",
       "       [0.22048923, 0.19517352, 0.26871863, 0.31561866],\n",
       "       [0.3194913 , 0.6288971 , 0.02896921, 0.02264237],\n",
       "       [0.11125047, 0.08324527, 0.3369387 , 0.46856558],\n",
       "       [0.45373243, 0.48223993, 0.03792608, 0.02610154],\n",
       "       [0.1517579 , 0.0925586 , 0.20779957, 0.547884  ],\n",
       "       [0.13491634, 0.11907875, 0.39985952, 0.34614545],\n",
       "       [0.34857935, 0.2654226 , 0.24877353, 0.13722447],\n",
       "       [0.5180991 , 0.43679574, 0.02517064, 0.01993456],\n",
       "       [0.37295988, 0.5932689 , 0.01948004, 0.01429124],\n",
       "       [0.34722975, 0.62811446, 0.01611398, 0.00854181],\n",
       "       [0.388358  , 0.26290795, 0.15268171, 0.1960524 ],\n",
       "       [0.2331187 , 0.21086209, 0.31170723, 0.244312  ],\n",
       "       [0.08122522, 0.07331105, 0.714557  , 0.13090678],\n",
       "       [0.38655072, 0.5347377 , 0.03785851, 0.0408531 ],\n",
       "       [0.4609376 , 0.36878565, 0.0831782 , 0.08709849],\n",
       "       [0.38376975, 0.48601466, 0.05378107, 0.0764345 ],\n",
       "       [0.14225869, 0.10006533, 0.35705656, 0.4006194 ],\n",
       "       [0.4893802 , 0.4379163 , 0.03363936, 0.03906413],\n",
       "       [0.27045432, 0.6886704 , 0.02904954, 0.01182577],\n",
       "       [0.28349212, 0.48241737, 0.10682973, 0.12726077],\n",
       "       [0.22901246, 0.7432812 , 0.01998039, 0.00772597],\n",
       "       [0.43168342, 0.26162195, 0.07240186, 0.23429273],\n",
       "       [0.22670098, 0.15850665, 0.19581649, 0.4189758 ],\n",
       "       [0.2919632 , 0.68386734, 0.01442879, 0.00974072],\n",
       "       [0.38132372, 0.5199386 , 0.06438237, 0.0343553 ],\n",
       "       [0.11149926, 0.07804659, 0.24844937, 0.56200486],\n",
       "       [0.5496779 , 0.42443725, 0.01051082, 0.015374  ],\n",
       "       [0.42467275, 0.5255006 , 0.03690162, 0.01292501],\n",
       "       [0.05601091, 0.08371199, 0.5595438 , 0.3007334 ],\n",
       "       [0.5044585 , 0.30158797, 0.08559989, 0.10835367],\n",
       "       [0.30405173, 0.27287063, 0.30185473, 0.12122299],\n",
       "       [0.4009821 , 0.5527683 , 0.02760886, 0.01864071],\n",
       "       [0.24375714, 0.7181054 , 0.02502403, 0.01311347],\n",
       "       [0.21293975, 0.20360823, 0.3003157 , 0.28313637],\n",
       "       [0.2835354 , 0.68881094, 0.01392924, 0.01372449]], dtype=float32)"
      ]
     },
     "execution_count": 13,
     "metadata": {},
     "output_type": "execute_result"
    }
   ],
   "source": [
    "model.predict([X_test_padded_seqs, left_test_padded_seqs, right_test_padded_seqs])"
   ]
  },
  {
   "cell_type": "code",
   "execution_count": null,
   "id": "7c5931b2",
   "metadata": {},
   "outputs": [],
   "source": [
    "from keras.models import load_model\n",
    "model.save('kerassave')\n",
    "newmodel = load_model('kerassave')"
   ]
  }
 ],
 "metadata": {
  "kernelspec": {
   "display_name": "Python 3",
   "language": "python",
   "name": "python3"
  },
  "language_info": {
   "codemirror_mode": {
    "name": "ipython",
    "version": 3
   },
   "file_extension": ".py",
   "mimetype": "text/x-python",
   "name": "python",
   "nbconvert_exporter": "python",
   "pygments_lexer": "ipython3",
   "version": "3.8.8"
  }
 },
 "nbformat": 4,
 "nbformat_minor": 5
}
