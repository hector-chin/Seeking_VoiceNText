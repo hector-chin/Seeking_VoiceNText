{
 "cells": [
  {
   "cell_type": "code",
   "execution_count": 4,
   "id": "88f60a8a",
   "metadata": {},
   "outputs": [],
   "source": [
    "from gensim.models import word2vec\n",
    "from gensim.models.word2vec import LineSentence"
   ]
  },
  {
   "cell_type": "code",
   "execution_count": 5,
   "id": "b95d6c71",
   "metadata": {},
   "outputs": [
    {
     "data": {
      "text/plain": [
       "<gensim.models.word2vec.LineSentence at 0x1d471fbd670>"
      ]
     },
     "execution_count": 5,
     "metadata": {},
     "output_type": "execute_result"
    }
   ],
   "source": [
    "sentences = word2vec.LineSentence('AllDataSegment.txt')\n",
    "sentences"
   ]
  },
  {
   "cell_type": "code",
   "execution_count": 6,
   "id": "dd930098",
   "metadata": {},
   "outputs": [],
   "source": [
    "# 訓練模型 skip-gram\n",
    "model = word2vec.Word2Vec(sentences, vector_size=300, sg=1, window=10, workers=3, min_count=2)\n",
    "#vector_size:向量維度  sg=1:skip-gram, sg=0 :cbow"
   ]
  },
  {
   "cell_type": "code",
   "execution_count": 20,
   "id": "bfe1a89c",
   "metadata": {},
   "outputs": [
    {
     "data": {
      "text/plain": [
       "<gensim.models.word2vec.Word2Vec at 0x1d472164c10>"
      ]
     },
     "execution_count": 20,
     "metadata": {},
     "output_type": "execute_result"
    }
   ],
   "source": [
    "model"
   ]
  },
  {
   "cell_type": "code",
   "execution_count": 21,
   "id": "42513952",
   "metadata": {},
   "outputs": [],
   "source": [
    "# 儲存模型\n",
    "model.save(\"word2vec_ALL_skip-gram.model\")"
   ]
  },
  {
   "cell_type": "code",
   "execution_count": 8,
   "id": "c9336317",
   "metadata": {},
   "outputs": [
    {
     "data": {
      "text/plain": [
       "16205883"
      ]
     },
     "execution_count": 8,
     "metadata": {},
     "output_type": "execute_result"
    }
   ],
   "source": [
    "model.corpus_total_words"
   ]
  },
  {
   "cell_type": "code",
   "execution_count": 9,
   "id": "9a69621e",
   "metadata": {},
   "outputs": [
    {
     "data": {
      "text/plain": [
       "[('創業家', 0.6102858781814575),\n",
       " ('王繁捷', 0.5994919538497925),\n",
       " ('逐夢', 0.5797169804573059),\n",
       " ('租婆', 0.5576221942901611),\n",
       " ('于為暢', 0.5565179586410522),\n",
       " ('打拚', 0.5557174682617188),\n",
       " ('展店', 0.5555428266525269),\n",
       " ('企業家', 0.550542950630188),\n",
       " ('新鮮人', 0.5484283566474915),\n",
       " ('專職', 0.5483438968658447)]"
      ]
     },
     "execution_count": 9,
     "metadata": {},
     "output_type": "execute_result"
    }
   ],
   "source": [
    "# 詞相似度\n",
    "model.wv.most_similar('創業')"
   ]
  },
  {
   "cell_type": "code",
   "execution_count": 10,
   "id": "ee5d2f70",
   "metadata": {},
   "outputs": [
    {
     "data": {
      "text/plain": [
       "[('創業家', 0.6102858781814575),\n",
       " ('王繁捷', 0.5994919538497925),\n",
       " ('逐夢', 0.5797169804573059),\n",
       " ('租婆', 0.5576221942901611),\n",
       " ('于為暢', 0.5565179586410522),\n",
       " ('打拚', 0.5557174682617188),\n",
       " ('展店', 0.5555428266525269),\n",
       " ('企業家', 0.550542950630188),\n",
       " ('新鮮人', 0.5484283566474915),\n",
       " ('專職', 0.5483438968658447)]"
      ]
     },
     "execution_count": 10,
     "metadata": {},
     "output_type": "execute_result"
    }
   ],
   "source": [
    "model.wv.similar_by_word('創業')"
   ]
  },
  {
   "cell_type": "code",
   "execution_count": 11,
   "id": "efd94fff",
   "metadata": {},
   "outputs": [
    {
     "data": {
      "text/plain": [
       "[('黨營', 0.5702046751976013),\n",
       " ('多角化', 0.5657291412353516),\n",
       " ('轉投資', 0.5563523769378662),\n",
       " ('蒸蒸日上', 0.5528626441955566),\n",
       " ('高秋鴻', 0.5426630973815918),\n",
       " ('于為暢', 0.534391462802887),\n",
       " ('合資', 0.529611349105835),\n",
       " ('飛航空', 0.5262232422828674),\n",
       " ('遠大', 0.5254855155944824),\n",
       " ('演藝', 0.5218530297279358)]"
      ]
     },
     "execution_count": 11,
     "metadata": {},
     "output_type": "execute_result"
    }
   ],
   "source": [
    "model.wv.similar_by_word('事業')"
   ]
  },
  {
   "cell_type": "code",
   "execution_count": 12,
   "id": "bdba1429",
   "metadata": {},
   "outputs": [
    {
     "data": {
      "text/plain": [
       "0.38726884"
      ]
     },
     "execution_count": 12,
     "metadata": {},
     "output_type": "execute_result"
    }
   ],
   "source": [
    "model.wv.similarity('工作','創業')"
   ]
  },
  {
   "cell_type": "code",
   "execution_count": 13,
   "id": "60258ba2",
   "metadata": {},
   "outputs": [
    {
     "data": {
      "text/plain": [
       "[('崗位', 0.6473478078842163),\n",
       " ('臨時工', 0.6197426915168762),\n",
       " ('上班', 0.6126160621643066),\n",
       " ('辭掉', 0.6105613112449646),\n",
       " ('資遣', 0.5964922308921814),\n",
       " ('育嬰假', 0.5953839421272278),\n",
       " ('醫療業', 0.5941578149795532),\n",
       " ('陶藝', 0.5922142863273621),\n",
       " ('交辦', 0.5905186533927917),\n",
       " ('打拚', 0.5892073512077332)]"
      ]
     },
     "execution_count": 13,
     "metadata": {},
     "output_type": "execute_result"
    }
   ],
   "source": [
    "model.wv.similar_by_word('工作')"
   ]
  },
  {
   "cell_type": "code",
   "execution_count": 14,
   "id": "4d4757af",
   "metadata": {},
   "outputs": [
    {
     "data": {
      "text/plain": [
       "[('創', 0.0011945056),\n",
       " ('新高', 0.0007205046),\n",
       " ('創下', 0.0004905169),\n",
       " ('歷史', 0.0003336079),\n",
       " ('創新', 0.00029178272),\n",
       " ('呢', 0.000278508),\n",
       " ('年增率', 0.00019176313),\n",
       " ('業', 0.00017983007),\n",
       " ('新', 0.00015806944),\n",
       " ('CPI', 0.00015368238)]"
      ]
     },
     "execution_count": 14,
     "metadata": {},
     "output_type": "execute_result"
    }
   ],
   "source": [
    "result = model.predict_output_word('創業')\n",
    "result"
   ]
  },
  {
   "cell_type": "code",
   "execution_count": null,
   "id": "dcc3d7fb",
   "metadata": {},
   "outputs": [],
   "source": []
  },
  {
   "cell_type": "code",
   "execution_count": 16,
   "id": "86d66b9c",
   "metadata": {},
   "outputs": [],
   "source": [
    "# 訓練模型 cbow\n",
    "model1 = word2vec.Word2Vec(sentences, vector_size=300, sg=0, window=10, workers=3, min_count=2)\n",
    "#vector_size:向量維度  sg=1:skip-gram, sg=0 :cbow"
   ]
  },
  {
   "cell_type": "code",
   "execution_count": 17,
   "id": "c9807698",
   "metadata": {},
   "outputs": [
    {
     "data": {
      "text/plain": [
       "<gensim.models.word2vec.Word2Vec at 0x1d426f236d0>"
      ]
     },
     "execution_count": 17,
     "metadata": {},
     "output_type": "execute_result"
    }
   ],
   "source": [
    "model1"
   ]
  },
  {
   "cell_type": "code",
   "execution_count": 19,
   "id": "c3e352c4",
   "metadata": {},
   "outputs": [],
   "source": [
    "# 儲存模型\n",
    "model1.save(\"word2vec_ALL_cbow.model\")"
   ]
  },
  {
   "cell_type": "code",
   "execution_count": 25,
   "id": "112d41b6",
   "metadata": {},
   "outputs": [
    {
     "data": {
      "text/plain": [
       "16205883"
      ]
     },
     "execution_count": 25,
     "metadata": {},
     "output_type": "execute_result"
    }
   ],
   "source": [
    "model1.corpus_total_words"
   ]
  },
  {
   "cell_type": "code",
   "execution_count": null,
   "id": "13c398d8",
   "metadata": {},
   "outputs": [],
   "source": [
    "# 詞相似度"
   ]
  },
  {
   "cell_type": "code",
   "execution_count": 26,
   "id": "2ee37658",
   "metadata": {},
   "outputs": [
    {
     "data": {
      "text/plain": [
       "[('經營', 0.6639205813407898),\n",
       " ('企業家', 0.6298556327819824),\n",
       " ('創業家', 0.6193527579307556),\n",
       " ('事業', 0.6122709512710571),\n",
       " ('轉職', 0.6023122072219849),\n",
       " ('理財', 0.5919910669326782),\n",
       " ('斜槓', 0.5707265138626099),\n",
       " ('郝旭烈', 0.5596493482589722),\n",
       " ('職涯', 0.5462529063224792),\n",
       " ('退休', 0.5215765833854675)]"
      ]
     },
     "execution_count": 26,
     "metadata": {},
     "output_type": "execute_result"
    }
   ],
   "source": [
    "model1.wv.similar_by_word('創業')"
   ]
  },
  {
   "cell_type": "code",
   "execution_count": 27,
   "id": "48f357d0",
   "metadata": {},
   "outputs": [
    {
     "data": {
      "text/plain": [
       "[('業務', 0.7036618590354919),\n",
       " ('經營', 0.6824212670326233),\n",
       " ('本業', 0.6466557383537292),\n",
       " ('企業家', 0.640807032585144),\n",
       " ('職涯', 0.621355414390564),\n",
       " ('創業', 0.6122709512710571),\n",
       " ('新創', 0.6004897952079773),\n",
       " ('慈善', 0.5970340371131897),\n",
       " ('郝旭烈', 0.5947079658508301),\n",
       " ('企業', 0.5931535959243774)]"
      ]
     },
     "execution_count": 27,
     "metadata": {},
     "output_type": "execute_result"
    }
   ],
   "source": [
    "model1.wv.similar_by_word('事業')"
   ]
  },
  {
   "cell_type": "code",
   "execution_count": 28,
   "id": "8c860297",
   "metadata": {},
   "outputs": [
    {
     "data": {
      "text/plain": [
       "0.39972782"
      ]
     },
     "execution_count": 28,
     "metadata": {},
     "output_type": "execute_result"
    }
   ],
   "source": [
    "model1.wv.similarity('工作','創業')"
   ]
  },
  {
   "cell_type": "code",
   "execution_count": 29,
   "id": "f69c9cdf",
   "metadata": {},
   "outputs": [
    {
     "data": {
      "text/plain": [
       "[('新高', 0.96344876),\n",
       " ('創下', 0.0054495987),\n",
       " ('新', 0.004224768),\n",
       " ('歷史', 0.0026845143),\n",
       " ('創', 0.0012819914),\n",
       " ('高', 0.0005170605),\n",
       " ('創新', 0.00015859697),\n",
       " ('單日', 0.00015823546),\n",
       " ('紀錄', 0.00011786763),\n",
       " ('再', 8.970631e-05)]"
      ]
     },
     "execution_count": 29,
     "metadata": {},
     "output_type": "execute_result"
    }
   ],
   "source": [
    "model1.predict_output_word('創業')\n"
   ]
  },
  {
   "cell_type": "code",
   "execution_count": null,
   "id": "9d3e63b7",
   "metadata": {},
   "outputs": [],
   "source": []
  },
  {
   "cell_type": "code",
   "execution_count": null,
   "id": "0db9400c",
   "metadata": {},
   "outputs": [],
   "source": [
    "#模型視覺化"
   ]
  },
  {
   "cell_type": "code",
   "execution_count": null,
   "id": "8db0c29a",
   "metadata": {},
   "outputs": [],
   "source": [
    "from sklearn.decomposition import IncrementalPCA    # inital reduction\n",
    "from sklearn.manifold import TSNE                   # final reduction\n",
    "import numpy as np                                  # array handling"
   ]
  },
  {
   "cell_type": "code",
   "execution_count": null,
   "id": "de8eb92f",
   "metadata": {},
   "outputs": [],
   "source": [
    "def reduce_dimensions(model):\n",
    "    num_dimensions = 2  # final num dimensions (2D, 3D, etc)\n",
    "    # extract the words & their vectors, as numpy arrays\n",
    "    vectors = np.asarray(model.wv.vectors)\n",
    "    labels = np.asarray(model.wv.index_to_key)  # fixed-width numpy strings\n",
    "    # reduce using t-SNE\n",
    "    tsne = TSNE(n_components=num_dimensions, random_state=0)\n",
    "    vectors = tsne.fit_transform(vectors)\n",
    "    x_vals = [v[0] for v in vectors]\n",
    "    y_vals = [v[1] for v in vectors]\n",
    "    return x_vals, y_vals, labels\n",
    "x_vals, y_vals, labels = reduce_dimensions(model)"
   ]
  },
  {
   "cell_type": "code",
   "execution_count": null,
   "id": "32165277",
   "metadata": {},
   "outputs": [],
   "source": [
    "print(x_vals)\n",
    "print(y_vals)\n",
    "print(labels)"
   ]
  },
  {
   "cell_type": "code",
   "execution_count": null,
   "id": "63523618",
   "metadata": {},
   "outputs": [],
   "source": [
    "def plot_with_plotly(x_vals, y_vals, labels, plot_in_notebook=True):\n",
    "    from plotly.offline import init_notebook_mode, iplot, plot\n",
    "    import plotly.graph_objs as go\n",
    "\n",
    "    trace = go.Scatter(x=x_vals, y=y_vals, mode='text', text=labels)\n",
    "    data = [trace]\n",
    "\n",
    "    if plot_in_notebook:\n",
    "        init_notebook_mode(connected=True)\n",
    "        iplot(data, filename='word-embedding-plot')\n",
    "    else:\n",
    "        plot(data, filename='word-embedding-plot.html')\n",
    "\n",
    "\n",
    "def plot_with_matplotlib(x_vals, y_vals, labels):\n",
    "    import matplotlib.pyplot as plt\n",
    "    import random\n",
    "\n",
    "    random.seed(0)\n",
    "\n",
    "    plt.figure(figsize=(12, 12))\n",
    "    plt.scatter(x_vals, y_vals)\n",
    "\n",
    "    #\n",
    "    # Label randomly subsampled 25 data points\n",
    "    #\n",
    "    indices = list(range(len(labels)))\n",
    "    selected_indices = random.sample(indices, 25)\n",
    "    for i in selected_indices:\n",
    "        plt.annotate(labels[i], (x_vals[i], y_vals[i]))\n",
    "\n",
    "try:\n",
    "    get_ipython()\n",
    "except Exception:\n",
    "    plot_function = plot_with_matplotlib\n",
    "else:\n",
    "    plot_function = plot_with_plotly\n",
    "\n",
    "plot_function(x_vals, y_vals, labels)"
   ]
  },
  {
   "cell_type": "code",
   "execution_count": null,
   "id": "89658e79",
   "metadata": {},
   "outputs": [],
   "source": []
  },
  {
   "cell_type": "code",
   "execution_count": null,
   "id": "6a102ea1",
   "metadata": {},
   "outputs": [],
   "source": []
  },
  {
   "cell_type": "code",
   "execution_count": null,
   "id": "c1e9e6f2",
   "metadata": {},
   "outputs": [],
   "source": []
  },
  {
   "cell_type": "code",
   "execution_count": null,
   "id": "b4a208ff",
   "metadata": {},
   "outputs": [],
   "source": []
  },
  {
   "cell_type": "code",
   "execution_count": null,
   "id": "8b6dd531",
   "metadata": {},
   "outputs": [],
   "source": []
  }
 ],
 "metadata": {
  "kernelspec": {
   "display_name": "Python 3",
   "language": "python",
   "name": "python3"
  },
  "language_info": {
   "codemirror_mode": {
    "name": "ipython",
    "version": 3
   },
   "file_extension": ".py",
   "mimetype": "text/x-python",
   "name": "python",
   "nbconvert_exporter": "python",
   "pygments_lexer": "ipython3",
   "version": "3.8.8"
  }
 },
 "nbformat": 4,
 "nbformat_minor": 5
}
