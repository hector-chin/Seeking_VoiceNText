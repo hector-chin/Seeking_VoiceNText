{
 "cells": [
  {
   "cell_type": "code",
   "execution_count": 6,
   "id": "1ab6d09a",
   "metadata": {},
   "outputs": [],
   "source": [
    "from gensim.models.doc2vec import Doc2Vec\n",
    "from gensim.models import word2vec\n",
    "from gensim.models.word2vec import LineSentence\n",
    "from gensim.models.doc2vec import TaggedDocument"
   ]
  },
  {
   "cell_type": "code",
   "execution_count": 4,
   "id": "f12bcd26",
   "metadata": {},
   "outputs": [
    {
     "data": {
      "text/plain": [
       "<gensim.models.word2vec.LineSentence at 0x1cee0bab2e0>"
      ]
     },
     "execution_count": 4,
     "metadata": {},
     "output_type": "execute_result"
    }
   ],
   "source": [
    "sentences = word2vec.LineSentence('AllDataSegment.txt')\n",
    "sentences"
   ]
  },
  {
   "cell_type": "code",
   "execution_count": 7,
   "id": "618c1ea6",
   "metadata": {},
   "outputs": [],
   "source": [
    "# 模型訓練 PV-DM  \n",
    "documents = [TaggedDocument(doc, [i]) for i, doc in enumerate(sentences)]\n",
    "model = Doc2Vec(documents, vector_size=5, window=2, min_count=1, workers=4, dm=1)\n",
    "# dm=1 :PV-DM  , dm=0 :PV-DBOW"
   ]
  },
  {
   "cell_type": "code",
   "execution_count": 8,
   "id": "c6854401",
   "metadata": {},
   "outputs": [
    {
     "data": {
      "text/plain": [
       "<gensim.models.doc2vec.Doc2Vec at 0x1cea57cae20>"
      ]
     },
     "execution_count": 8,
     "metadata": {},
     "output_type": "execute_result"
    }
   ],
   "source": [
    "model"
   ]
  },
  {
   "cell_type": "code",
   "execution_count": 14,
   "id": "aa88202e",
   "metadata": {},
   "outputs": [],
   "source": [
    "# 儲存模型\n",
    "model.save(\"doc2vec_ALL_dm.model\")"
   ]
  },
  {
   "cell_type": "code",
   "execution_count": 9,
   "id": "dbddb45a",
   "metadata": {},
   "outputs": [
    {
     "data": {
      "text/plain": [
       "16205883"
      ]
     },
     "execution_count": 9,
     "metadata": {},
     "output_type": "execute_result"
    }
   ],
   "source": [
    "model.corpus_total_words"
   ]
  },
  {
   "cell_type": "code",
   "execution_count": 10,
   "id": "232fff80",
   "metadata": {},
   "outputs": [
    {
     "data": {
      "text/plain": [
       "[('舒丹', 0.9979115724563599),\n",
       " ('三光', 0.9974967241287231),\n",
       " ('道猛', 0.9972792863845825),\n",
       " ('當中營站', 0.9970139265060425),\n",
       " ('鄭賀蠕', 0.9969560503959656),\n",
       " ('往事', 0.9966841340065002),\n",
       " ('卡利班', 0.9965425133705139),\n",
       " ('TypeScript', 0.9965249300003052),\n",
       " ('防衛省', 0.9963850975036621),\n",
       " ('Kissinger', 0.9962112903594971)]"
      ]
     },
     "execution_count": 10,
     "metadata": {},
     "output_type": "execute_result"
    }
   ],
   "source": [
    "# 詞相似度\n",
    "model.wv.most_similar('創業')"
   ]
  },
  {
   "cell_type": "code",
   "execution_count": 11,
   "id": "20beb87e",
   "metadata": {},
   "outputs": [
    {
     "data": {
      "text/plain": [
       "[('舒丹', 0.9979115724563599),\n",
       " ('三光', 0.9974967241287231),\n",
       " ('道猛', 0.9972792863845825),\n",
       " ('當中營站', 0.9970139265060425),\n",
       " ('鄭賀蠕', 0.9969560503959656),\n",
       " ('往事', 0.9966841340065002),\n",
       " ('卡利班', 0.9965425133705139),\n",
       " ('TypeScript', 0.9965249300003052),\n",
       " ('防衛省', 0.9963850975036621),\n",
       " ('Kissinger', 0.9962112903594971)]"
      ]
     },
     "execution_count": 11,
     "metadata": {},
     "output_type": "execute_result"
    }
   ],
   "source": [
    "model.wv.similar_by_word('創業')"
   ]
  },
  {
   "cell_type": "code",
   "execution_count": 12,
   "id": "e0952c6d",
   "metadata": {},
   "outputs": [
    {
     "data": {
      "text/plain": [
       "0.9482879"
      ]
     },
     "execution_count": 12,
     "metadata": {},
     "output_type": "execute_result"
    }
   ],
   "source": [
    "model.wv.similarity('工作','創業')"
   ]
  },
  {
   "cell_type": "code",
   "execution_count": 13,
   "id": "315a7e5d",
   "metadata": {},
   "outputs": [
    {
     "data": {
      "text/plain": [
       "[('奈美惠', 0.9984852075576782),\n",
       " ('癢覺', 0.997930109500885),\n",
       " ('創造出來', 0.9974001049995422),\n",
       " ('提倡', 0.9970790147781372),\n",
       " ('微煦', 0.9969391226768494),\n",
       " ('讀障', 0.9965000748634338),\n",
       " ('民情人', 0.9963464140892029),\n",
       " ('花天', 0.996161162853241),\n",
       " ('黃茶', 0.9961269497871399),\n",
       " ('小吃街', 0.996035099029541)]"
      ]
     },
     "execution_count": 13,
     "metadata": {},
     "output_type": "execute_result"
    }
   ],
   "source": [
    "model.wv.similar_by_word('工作')"
   ]
  },
  {
   "cell_type": "code",
   "execution_count": 15,
   "id": "e4379ec8",
   "metadata": {},
   "outputs": [
    {
     "data": {
      "text/plain": [
       "[('移入', 0.0019012383),\n",
       " ('Ep', 0.0011069517),\n",
       " ('ft', 0.00091898354),\n",
       " ('o', 0.0007043881),\n",
       " ('n', 0.00064173015),\n",
       " ('離岸', 0.0006293753),\n",
       " ('h', 0.00051602814),\n",
       " ('單日', 0.00051500375),\n",
       " ('is', 0.0004350455),\n",
       " ('塗城', 0.0004260722)]"
      ]
     },
     "execution_count": 15,
     "metadata": {},
     "output_type": "execute_result"
    }
   ],
   "source": [
    "#詞預測\n",
    "result = model.predict_output_word('創業')\n",
    "result"
   ]
  },
  {
   "cell_type": "code",
   "execution_count": null,
   "id": "106a3f6d",
   "metadata": {},
   "outputs": [],
   "source": []
  },
  {
   "cell_type": "code",
   "execution_count": 16,
   "id": "602df7e3",
   "metadata": {},
   "outputs": [],
   "source": [
    "# 模型訓練 PV-DBOW\n",
    "documents = [TaggedDocument(doc, [i]) for i, doc in enumerate(sentences)]\n",
    "model1 = Doc2Vec(documents, vector_size=200, window=2, min_count=1, workers=4, dm=0)\n",
    "# dm=1 :PV-DM  , dm=0 :PV-DBOW"
   ]
  },
  {
   "cell_type": "code",
   "execution_count": 17,
   "id": "f802e054",
   "metadata": {},
   "outputs": [
    {
     "data": {
      "text/plain": [
       "<gensim.models.doc2vec.Doc2Vec at 0x1cee09f2490>"
      ]
     },
     "execution_count": 17,
     "metadata": {},
     "output_type": "execute_result"
    }
   ],
   "source": [
    "model1"
   ]
  },
  {
   "cell_type": "code",
   "execution_count": 23,
   "id": "46541af5",
   "metadata": {},
   "outputs": [],
   "source": [
    "# 儲存模型\n",
    "model1.save(\"doc2vec_ALL_DBOW.model\")"
   ]
  },
  {
   "cell_type": "code",
   "execution_count": 18,
   "id": "2a215f38",
   "metadata": {},
   "outputs": [
    {
     "data": {
      "text/plain": [
       "[('街點', 0.3348460793495178),\n",
       " ('撥放', 0.3052530288696289),\n",
       " ('貶', 0.30503106117248535),\n",
       " ('戒指單', 0.29950129985809326),\n",
       " ('一台北', 0.2978487014770508),\n",
       " ('遺毒', 0.2938794493675232),\n",
       " ('尋歡', 0.2910121977329254),\n",
       " ('撤換掉', 0.2879617214202881),\n",
       " ('自主監', 0.2855203151702881),\n",
       " ('故事會', 0.2842782437801361)]"
      ]
     },
     "execution_count": 18,
     "metadata": {},
     "output_type": "execute_result"
    }
   ],
   "source": [
    "# 詞相似度\n",
    "model1.wv.most_similar('創業')"
   ]
  },
  {
   "cell_type": "code",
   "execution_count": 19,
   "id": "bdcbf989",
   "metadata": {},
   "outputs": [
    {
     "data": {
      "text/plain": [
       "-0.080422625"
      ]
     },
     "execution_count": 19,
     "metadata": {},
     "output_type": "execute_result"
    }
   ],
   "source": [
    "model1.wv.similarity('工作','創業')"
   ]
  },
  {
   "cell_type": "code",
   "execution_count": 20,
   "id": "ca9b38ce",
   "metadata": {},
   "outputs": [
    {
     "data": {
      "text/plain": [
       "[('晨醫師', 0.3112902045249939),\n",
       " ('側標', 0.3071664869785309),\n",
       " ('全傳', 0.301482230424881),\n",
       " ('烤光', 0.29579949378967285),\n",
       " ('2035年式', 0.29509276151657104),\n",
       " ('近在眼前', 0.29391008615493774),\n",
       " ('premiere', 0.2931806445121765),\n",
       " ('旱季', 0.291766494512558),\n",
       " ('安泰利斯貝', 0.2900865077972412),\n",
       " ('氧感', 0.28988105058670044)]"
      ]
     },
     "execution_count": 20,
     "metadata": {},
     "output_type": "execute_result"
    }
   ],
   "source": [
    "model1.wv.similar_by_word('工作')"
   ]
  },
  {
   "cell_type": "code",
   "execution_count": 22,
   "id": "be51929d",
   "metadata": {},
   "outputs": [
    {
     "data": {
      "text/plain": [
       "[('迎新', 0.3096139430999756),\n",
       " ('司馬智慧', 0.295894056558609),\n",
       " ('海湖', 0.2919211685657501),\n",
       " ('穆加比', 0.29000478982925415),\n",
       " ('薑黃飯', 0.2846933603286743),\n",
       " ('牛肉鍋', 0.2818910479545593),\n",
       " ('幹活', 0.28127652406692505),\n",
       " ('淡藍色', 0.2800544798374176),\n",
       " ('芭蕾娜塔利班', 0.27827367186546326),\n",
       " ('女生兒', 0.27763915061950684)]"
      ]
     },
     "execution_count": 22,
     "metadata": {},
     "output_type": "execute_result"
    }
   ],
   "source": [
    "model1.wv.similar_by_word('股票')"
   ]
  },
  {
   "cell_type": "code",
   "execution_count": null,
   "id": "1b227ad5",
   "metadata": {},
   "outputs": [],
   "source": []
  },
  {
   "cell_type": "code",
   "execution_count": null,
   "id": "69aa1b1f",
   "metadata": {},
   "outputs": [],
   "source": []
  }
 ],
 "metadata": {
  "kernelspec": {
   "display_name": "Python 3",
   "language": "python",
   "name": "python3"
  },
  "language_info": {
   "codemirror_mode": {
    "name": "ipython",
    "version": 3
   },
   "file_extension": ".py",
   "mimetype": "text/x-python",
   "name": "python",
   "nbconvert_exporter": "python",
   "pygments_lexer": "ipython3",
   "version": "3.8.8"
  }
 },
 "nbformat": 4,
 "nbformat_minor": 5
}
