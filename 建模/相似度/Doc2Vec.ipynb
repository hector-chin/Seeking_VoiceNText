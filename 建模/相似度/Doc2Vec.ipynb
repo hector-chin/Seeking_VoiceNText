{
 "cells": [
  {
   "cell_type": "code",
   "execution_count": 1,
   "metadata": {},
   "outputs": [
    {
     "name": "stderr",
     "output_type": "stream",
     "text": [
      "C:\\Users\\Tibame_T14\\anaconda3\\lib\\site-packages\\ckiptagger\\model_ws.py:106: UserWarning: `tf.nn.rnn_cell.LSTMCell` is deprecated and will be removed in a future version. This class is equivalent as `tf.keras.layers.LSTMCell`, and will be replaced by that in Tensorflow 2.0.\n",
      "  cell = tf.compat.v1.nn.rnn_cell.LSTMCell(hidden_d, name=name)\n",
      "C:\\Users\\Tibame_T14\\anaconda3\\lib\\site-packages\\keras\\layers\\legacy_rnn\\rnn_cell_impl.py:984: UserWarning: `layer.add_variable` is deprecated and will be removed in a future version. Please use `layer.add_weight` method instead.\n",
      "  self._kernel = self.add_variable(\n",
      "C:\\Users\\Tibame_T14\\anaconda3\\lib\\site-packages\\keras\\layers\\legacy_rnn\\rnn_cell_impl.py:993: UserWarning: `layer.add_variable` is deprecated and will be removed in a future version. Please use `layer.add_weight` method instead.\n",
      "  self._bias = self.add_variable(\n"
     ]
    }
   ],
   "source": [
    "import json\n",
    "from ckiptagger import construct_dictionary, WS, POS\n",
    "ws = WS(\"./data\")"
   ]
  },
  {
   "cell_type": "code",
   "execution_count": 2,
   "metadata": {},
   "outputs": [],
   "source": [
    "with open('./youtube/醫療保健text.json') as f:\n",
    "    data = json.loads(f.read())\n",
    "with open('./stopword.txt', encoding='utf-8') as f:\n",
    "    stop = f.read()"
   ]
  },
  {
   "cell_type": "code",
   "execution_count": 3,
   "metadata": {},
   "outputs": [],
   "source": [
    "stopword = stop.split('\\n')"
   ]
  },
  {
   "cell_type": "code",
   "execution_count": 4,
   "metadata": {},
   "outputs": [],
   "source": [
    "# 使用分好詞的資料\n",
    "alltext = []\n",
    "for file in data.values():\n",
    "    for name, texts in file.items():\n",
    "        word_sentence_list = ws(list(texts))\n",
    "        text_list = []\n",
    "        for i in range(len(texts)):\n",
    "            for word in word_sentence_list[i]:\n",
    "                if word not in stopword:\n",
    "                    text_list.append(word)\n",
    "        if text_list != []:\n",
    "            alltext.append(text_list)"
   ]
  },
  {
   "cell_type": "code",
   "execution_count": 5,
   "metadata": {},
   "outputs": [],
   "source": [
    "from gensim.models.doc2vec import Doc2Vec, TaggedDocument"
   ]
  },
  {
   "cell_type": "code",
   "execution_count": 6,
   "metadata": {},
   "outputs": [],
   "source": [
    "documents = [TaggedDocument(doc, [i]) for i, doc in enumerate(alltext)]\n",
    "model = Doc2Vec(documents, vector_size=100, window=2, min_count=1, workers=4)"
   ]
  },
  {
   "cell_type": "code",
   "execution_count": 7,
   "metadata": {},
   "outputs": [],
   "source": [
    "from gensim.similarities import WordEmbeddingSimilarityIndex"
   ]
  },
  {
   "cell_type": "code",
   "execution_count": 8,
   "metadata": {},
   "outputs": [],
   "source": [
    "termsim_index = WordEmbeddingSimilarityIndex(model.wv)"
   ]
  },
  {
   "cell_type": "code",
   "execution_count": 9,
   "metadata": {},
   "outputs": [],
   "source": [
    "from gensim.corpora import Dictionary"
   ]
  },
  {
   "cell_type": "code",
   "execution_count": 10,
   "metadata": {},
   "outputs": [],
   "source": [
    "dictionary = Dictionary(alltext)"
   ]
  },
  {
   "cell_type": "code",
   "execution_count": 11,
   "metadata": {},
   "outputs": [],
   "source": [
    "bow_corpus = [dictionary.doc2bow(document) for document in alltext]"
   ]
  },
  {
   "cell_type": "code",
   "execution_count": 12,
   "metadata": {},
   "outputs": [],
   "source": [
    "from gensim.similarities import SoftCosineSimilarity, SparseTermSimilarityMatrix"
   ]
  },
  {
   "cell_type": "code",
   "execution_count": 13,
   "metadata": {},
   "outputs": [
    {
     "name": "stderr",
     "output_type": "stream",
     "text": [
      "100%|███████████████████████████████████████████████████████████████████████████| 26687/26687 [01:23<00:00, 318.03it/s]\n"
     ]
    }
   ],
   "source": [
    "similarity_matrix = SparseTermSimilarityMatrix(termsim_index, dictionary)\n",
    "docsim_index = SoftCosineSimilarity(bow_corpus, similarity_matrix)"
   ]
  },
  {
   "cell_type": "code",
   "execution_count": 14,
   "metadata": {},
   "outputs": [
    {
     "name": "stderr",
     "output_type": "stream",
     "text": [
      "C:\\Users\\Tibame_T14\\anaconda3\\lib\\site-packages\\gensim\\similarities\\termsim.py:382: RuntimeWarning: divide by zero encountered in true_divide\n",
      "  normalized_corpus = np.multiply(corpus, 1.0 / corpus_norm)\n",
      "C:\\Users\\Tibame_T14\\anaconda3\\lib\\site-packages\\gensim\\similarities\\termsim.py:382: RuntimeWarning: invalid value encountered in multiply\n",
      "  normalized_corpus = np.multiply(corpus, 1.0 / corpus_norm)\n"
     ]
    },
    {
     "data": {
      "text/plain": [
       "array([1.        , 1.        , 1.        , 1.        , 1.        ,\n",
       "       1.        , 1.        , 1.        , 1.        , 1.        ,\n",
       "       0.7316522 , 1.        , 1.        , 0.9111905 , 1.        ,\n",
       "       1.        , 0.8301885 , 1.        , 1.        , 1.        ,\n",
       "       0.99931395, 1.        , 1.        , 0.9013168 , 1.        ,\n",
       "       1.        , 1.        , 1.        , 1.        , 1.        ,\n",
       "       1.        , 1.        , 1.        , 0.69563645, 0.9459089 ,\n",
       "       0.84872055, 1.        , 1.        , 1.        , 1.        ,\n",
       "       1.        , 0.79348576, 1.        , 1.        , 1.        ,\n",
       "       1.        , 1.        , 1.        , 1.        , 1.        ,\n",
       "       1.        , 1.        , 1.        , 1.        , 1.        ,\n",
       "       1.        , 1.        , 1.        , 1.        , 1.        ,\n",
       "       0.8300884 , 1.        , 0.70466214, 0.4967255 , 1.        ,\n",
       "       0.        , 1.        , 0.        , 1.        , 0.69764215,\n",
       "       1.        , 0.44240758, 0.91529584, 0.6064992 , 0.8722474 ,\n",
       "       0.8977003 , 0.97740245, 0.656827  , 0.6460413 , 1.        ,\n",
       "       0.9758823 , 0.9739192 , 0.615175  , 0.7966717 , 0.91651464,\n",
       "       1.        , 1.        , 0.9430671 , 1.        , 0.9060715 ,\n",
       "       0.8253566 , 1.        , 0.9356857 , 0.93804264, 1.        ,\n",
       "       1.        , 0.8212053 , 1.        , 0.81549674, 1.        ,\n",
       "       0.8866329 , 0.7545525 , 1.        , 1.        , 1.        ,\n",
       "       1.        , 0.9555683 , 1.        , 1.        , 1.        ,\n",
       "       1.        , 1.        , 1.        , 1.        , 1.        ,\n",
       "       0.7920494 , 0.9597779 , 0.7751875 , 0.85080916, 0.86587954,\n",
       "       1.        , 1.        , 1.        , 1.        , 0.7175809 ,\n",
       "       0.8086538 , 1.        , 1.        , 1.        , 0.98357326,\n",
       "       0.70311683, 0.9877603 , 0.9281595 , 0.9095262 , 0.9920094 ,\n",
       "       0.9463523 , 0.45230588, 0.44920325, 0.4532781 , 1.        ,\n",
       "       0.        , 0.45099354, 0.9724997 , 0.44913405, 0.9118993 ,\n",
       "       0.        , 0.        , 0.45230588, 0.9772457 , 0.79344475,\n",
       "       0.97208023, 0.93168175, 0.85951877, 0.9609041 , 0.98710436,\n",
       "       0.9616919 , 1.        , 0.73422545, 1.        , 0.9894594 ,\n",
       "       0.96058214, 1.        , 0.97617745, 1.        , 1.        ,\n",
       "       0.96962583, 1.        , 1.        , 1.        , 1.        ,\n",
       "       1.        , 1.        , 1.        , 1.        , 0.92240983,\n",
       "       1.        , 1.        , 1.        , 1.        , 1.        ,\n",
       "       0.7320401 , 1.        , 1.        , 1.        , 1.        ,\n",
       "       0.93201315, 0.97521216, 1.        , 1.        , 1.        ,\n",
       "       1.        , 1.        , 1.        , 0.98450166, 0.902421  ,\n",
       "       1.        , 1.        , 1.        , 1.        , 1.        ,\n",
       "       0.8886975 , 0.7986696 , 1.        , 1.        , 1.        ,\n",
       "       1.        , 1.        , 0.98112017, 0.9947101 , 0.97513443,\n",
       "       0.97887576, 1.        , 0.8263023 , 0.993871  , 1.        ,\n",
       "       0.56147254, 0.89997685, 0.87465084, 1.        , 1.        ,\n",
       "       0.7554149 , 0.9347999 , 0.98773026, 1.        , 1.        ,\n",
       "       1.        , 0.8970673 , 0.78890043, 1.        , 1.        ,\n",
       "       0.7180375 , 1.        , 1.        , 1.        , 0.72081673,\n",
       "       0.965778  , 0.86820316, 1.        , 0.97201514, 1.        ,\n",
       "       1.        , 0.5942154 , 0.40474996, 0.5582025 , 1.        ,\n",
       "       1.        , 0.8298707 , 1.        , 0.9151729 , 0.8111505 ,\n",
       "       0.83114517, 1.        , 0.72258484, 0.74707675, 1.        ,\n",
       "       1.        , 1.        , 0.86796147, 0.9522444 , 1.        ,\n",
       "       1.        , 1.        , 0.90192014, 1.        , 0.85162175,\n",
       "       0.8062571 , 0.9225073 , 0.864959  , 0.8682199 , 1.        ,\n",
       "       1.        , 1.        , 1.        , 0.9364145 , 1.        ,\n",
       "       1.        , 1.        , 0.7919727 , 1.        , 0.54365534,\n",
       "       0.4237879 , 0.5540512 , 0.87205505, 0.88549286, 0.91995794,\n",
       "       0.63633245, 0.8130755 , 0.4519335 , 0.5357001 , 0.40594846,\n",
       "       0.        , 0.6824466 , 0.58216834, 0.        , 1.        ,\n",
       "       0.78706336, 0.74189377, 1.        , 0.58081603, 1.        ,\n",
       "       0.72361815, 0.9665191 , 0.72091293, 0.38841397, 0.6365835 ,\n",
       "       0.88289833, 0.52791435, 0.8082169 , 0.57112384, 0.83577496,\n",
       "       0.9388256 , 0.6342235 , 0.86720914, 0.4524953 , 0.8411701 ,\n",
       "       0.45242307, 0.5420932 , 0.80530345, 0.7787249 , 0.8845589 ,\n",
       "       0.7230056 , 0.40594846, 0.40539065, 0.830923  , 0.690978  ,\n",
       "       0.8887366 , 1.        , 0.42589143, 0.7387289 , 1.        ,\n",
       "       0.4863132 , 0.        , 0.5480328 , 0.5402255 , 0.7864157 ,\n",
       "       0.8794018 , 0.6539003 , 0.76855206, 0.91577786, 0.9818498 ,\n",
       "       0.681547  , 0.57923406, 0.7650535 , 0.6053611 , 0.58908993,\n",
       "       0.        , 0.4489079 , 1.        , 0.7622307 , 0.6019323 ,\n",
       "       0.38841397, 0.38841397, 0.84805644, 0.75485414, 1.        ,\n",
       "       1.        , 1.        , 0.        , 0.8961241 , 0.6992374 ,\n",
       "       1.        , 0.70009476, 0.80554783, 0.4115151 , 0.42699924,\n",
       "       0.39948127, 0.9942244 , 0.        , 0.        , 0.        ,\n",
       "       0.9467878 , 0.8251067 , 0.4166479 , 0.8426584 , 0.89159155,\n",
       "       1.        , 0.9344697 , 1.        , 0.7219814 , 0.70435417,\n",
       "       0.62181175, 0.38841397, 0.64602906, 0.5655123 , 0.73791623,\n",
       "       0.827887  , 0.6147986 , 0.39710173, 0.5942154 , 0.7112981 ,\n",
       "       0.8486152 , 0.74442506, 0.90748304, 0.53357494, 0.4115151 ,\n",
       "       1.        , 1.        , 1.        , 1.        , 0.993336  ,\n",
       "       1.        , 1.        , 1.        , 1.        , 0.8026364 ,\n",
       "       1.        , 1.        , 1.        , 0.9541664 , 1.        ,\n",
       "       0.9660778 , 1.        , 1.        , 0.7219849 , 0.965853  ,\n",
       "       1.        ], dtype=float32)"
      ]
     },
     "execution_count": 14,
     "metadata": {},
     "output_type": "execute_result"
    }
   ],
   "source": [
    "sims = docsim_index[dictionary.doc2bow(['瘦身','健康','減脂'])]\n",
    "sims"
   ]
  },
  {
   "cell_type": "code",
   "execution_count": 15,
   "metadata": {},
   "outputs": [
    {
     "data": {
      "text/plain": [
       "[('益生菌', 0.9936637878417969),\n",
       " ('堅持', 0.9919912219047546),\n",
       " ('控制', 0.991941511631012),\n",
       " ('乖乖', 0.9918344616889954),\n",
       " ('吃到', 0.9917516708374023),\n",
       " ('嚴格', 0.9913499355316162),\n",
       " ('發胖', 0.9911790490150452),\n",
       " ('成功', 0.9910815954208374),\n",
       " ('試', 0.9904205799102783),\n",
       " ('痛苦', 0.9899192452430725)]"
      ]
     },
     "execution_count": 15,
     "metadata": {},
     "output_type": "execute_result"
    }
   ],
   "source": [
    "model.wv.most_similar(['瘦身','健康','減脂'])"
   ]
  },
  {
   "cell_type": "code",
   "execution_count": 16,
   "metadata": {},
   "outputs": [
    {
     "data": {
      "text/plain": [
       "[('辦', 0.9978082180023193),\n",
       " ('算', 0.9977234601974487),\n",
       " ('重點', 0.9975895881652832),\n",
       " ('算是', 0.9973477721214294),\n",
       " ('裝', 0.9973286986351013),\n",
       " ('種子', 0.9972751140594482),\n",
       " ('原則', 0.9971699118614197),\n",
       " ('設', 0.997025191783905),\n",
       " ('免費', 0.9970196485519409),\n",
       " ('豬', 0.9969728589057922)]"
      ]
     },
     "execution_count": 16,
     "metadata": {},
     "output_type": "execute_result"
    }
   ],
   "source": [
    "model.wv.similar_by_word('瘦身')"
   ]
  },
  {
   "cell_type": "code",
   "execution_count": 24,
   "metadata": {},
   "outputs": [
    {
     "data": {
      "text/plain": [
       "array([[-0.02427432, -0.1457555 , -0.5095117 , ..., -0.14277664,\n",
       "         0.23143183, -0.1292079 ],\n",
       "       [-0.11492795, -0.20340832, -0.29187506, ..., -0.17336613,\n",
       "         0.66452545, -0.05533678],\n",
       "       [-0.2345905 , -0.12320617, -0.34969282, ..., -0.2621024 ,\n",
       "         0.7981411 ,  0.37003243],\n",
       "       ...,\n",
       "       [ 0.08088113, -0.04460506, -0.67256045, ..., -0.15957996,\n",
       "         0.05120504, -0.22449484],\n",
       "       [-0.00507432,  0.00852131, -0.01548689, ..., -0.00631102,\n",
       "        -0.00789565, -0.00368631],\n",
       "       [-0.01793433, -0.03791821, -0.36582193, ..., -0.13407761,\n",
       "         0.13370182, -0.0730036 ]], dtype=float32)"
      ]
     },
     "execution_count": 24,
     "metadata": {},
     "output_type": "execute_result"
    }
   ],
   "source": [
    "model.wv[alltext[0]]"
   ]
  },
  {
   "cell_type": "code",
   "execution_count": null,
   "metadata": {},
   "outputs": [],
   "source": []
  }
 ],
 "metadata": {
  "kernelspec": {
   "display_name": "Python 3",
   "language": "python",
   "name": "python3"
  },
  "language_info": {
   "codemirror_mode": {
    "name": "ipython",
    "version": 3
   },
   "file_extension": ".py",
   "mimetype": "text/x-python",
   "name": "python",
   "nbconvert_exporter": "python",
   "pygments_lexer": "ipython3",
   "version": "3.8.3"
  }
 },
 "nbformat": 4,
 "nbformat_minor": 5
}
