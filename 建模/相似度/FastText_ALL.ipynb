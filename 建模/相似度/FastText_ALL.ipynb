{
 "cells": [
  {
   "cell_type": "code",
   "execution_count": 1,
   "id": "bd5c28ea",
   "metadata": {},
   "outputs": [],
   "source": [
    "from gensim.models import word2vec, fasttext\n",
    "\n",
    "sentences = word2vec.LineSentence('AllDataSegment.txt')\n",
    "model = fasttext.FastText(sentences,min_count=1,vector_size=100,workers=8,\n",
    "                          window=10,sg=0,seed=666,batch_words=10000)\n",
    "\n",
    "# seed：亂數種子\n",
    "# sg=1:skip-gram, sg=0 :cbow\n",
    "# window_size： 周圍詞彙要看多少範圍\n",
    "# size： 轉成向量的維度\n",
    "# min_count： 詞頻少於 min_count 之詞彙不會參與訓練\n",
    "# workers： 訓練的並行數量\n",
    "# batch_words：每次給予多少詞彙量訓練"
   ]
  },
  {
   "cell_type": "code",
   "execution_count": 2,
   "id": "7b79c90c",
   "metadata": {},
   "outputs": [
    {
     "data": {
      "text/plain": [
       "<gensim.models.fasttext.FastText at 0x19054505cd0>"
      ]
     },
     "execution_count": 2,
     "metadata": {},
     "output_type": "execute_result"
    }
   ],
   "source": [
    "model"
   ]
  },
  {
   "cell_type": "code",
   "execution_count": 6,
   "id": "cef25026",
   "metadata": {},
   "outputs": [],
   "source": [
    "# 儲存模型\n",
    "model.save(\"fasttext_ALL_cbow.model\")"
   ]
  },
  {
   "cell_type": "code",
   "execution_count": 3,
   "id": "9ca2158b",
   "metadata": {},
   "outputs": [
    {
     "data": {
      "text/plain": [
       "[('海創業', 0.9922289252281189),\n",
       " ('華創業', 0.990744948387146),\n",
       " ('緯創業', 0.9898820519447327),\n",
       " ('創業圈', 0.9730201363563538),\n",
       " ('創業型', 0.9728572964668274),\n",
       " ('創業夢', 0.9704301953315735),\n",
       " ('創業期', 0.9702158570289612),\n",
       " ('創業史', 0.9682175517082214),\n",
       " ('創業園', 0.9662373661994934),\n",
       " ('創業潮', 0.9620649218559265)]"
      ]
     },
     "execution_count": 3,
     "metadata": {},
     "output_type": "execute_result"
    }
   ],
   "source": [
    "# 詞相似度\n",
    "model.wv.most_similar('創業')"
   ]
  },
  {
   "cell_type": "code",
   "execution_count": 4,
   "id": "8255f9a7",
   "metadata": {},
   "outputs": [
    {
     "data": {
      "text/plain": [
       "[('查價', 0.995454728603363),\n",
       " ('主事業', 0.9953160285949707),\n",
       " ('奔喪', 0.9742117524147034),\n",
       " ('事業心', 0.9703073501586914),\n",
       " ('事業感', 0.9666042923927307),\n",
       " ('事業宮', 0.9623907208442688),\n",
       " ('事業版', 0.9559785723686218),\n",
       " ('事業性', 0.9526527523994446),\n",
       " ('事業主', 0.9283467531204224),\n",
       " ('事業處', 0.916373074054718)]"
      ]
     },
     "execution_count": 4,
     "metadata": {},
     "output_type": "execute_result"
    }
   ],
   "source": [
    "model.wv.similar_by_word('事業')"
   ]
  },
  {
   "cell_type": "code",
   "execution_count": 5,
   "id": "37563c23",
   "metadata": {},
   "outputs": [
    {
     "data": {
      "text/plain": [
       "[('新高', 0.86272067),\n",
       " ('創下', 0.084028445),\n",
       " ('創', 0.002953097),\n",
       " ('歷史', 0.00041802137),\n",
       " ('單日', 0.0002504156),\n",
       " ('股息', 0.0001728718),\n",
       " ('創新', 0.00015764058),\n",
       " ('新', 0.00015478663),\n",
       " ('2021年', 0.00015000654),\n",
       " ('低點', 0.00014083694)]"
      ]
     },
     "execution_count": 5,
     "metadata": {},
     "output_type": "execute_result"
    }
   ],
   "source": [
    "model.predict_output_word('創業')"
   ]
  },
  {
   "cell_type": "code",
   "execution_count": null,
   "id": "17ea31e2",
   "metadata": {},
   "outputs": [],
   "source": []
  },
  {
   "cell_type": "code",
   "execution_count": null,
   "id": "db09d38e",
   "metadata": {},
   "outputs": [],
   "source": []
  },
  {
   "cell_type": "code",
   "execution_count": 7,
   "id": "ab9a1d58",
   "metadata": {},
   "outputs": [],
   "source": [
    "from gensim.models import word2vec, fasttext\n",
    "\n",
    "sentences = word2vec.LineSentence('AllDataSegment.txt')\n",
    "model1 = fasttext.FastText(sentences,min_count=1,vector_size=100,workers=8,\n",
    "                          window=10,sg=1,seed=666,batch_words=10000)\n",
    "\n",
    "# seed：亂數種子\n",
    "# sg=1:skip-gram, sg=0 :cbow\n",
    "# window_size： 周圍詞彙要看多少範圍\n",
    "# size： 轉成向量的維度\n",
    "# min_count： 詞頻少於 min_count 之詞彙不會參與訓練\n",
    "# workers： 訓練的並行數量\n",
    "# batch_words：每次給予多少詞彙量訓練"
   ]
  },
  {
   "cell_type": "code",
   "execution_count": 8,
   "id": "2c2e99e0",
   "metadata": {},
   "outputs": [
    {
     "data": {
      "text/plain": [
       "<gensim.models.fasttext.FastText at 0x19024a68970>"
      ]
     },
     "execution_count": 8,
     "metadata": {},
     "output_type": "execute_result"
    }
   ],
   "source": [
    "model1"
   ]
  },
  {
   "cell_type": "code",
   "execution_count": 9,
   "id": "81fd0d73",
   "metadata": {},
   "outputs": [],
   "source": [
    "# 儲存模型\n",
    "model1.save(\"fasttext_ALL_skip-gram.model\")"
   ]
  },
  {
   "cell_type": "code",
   "execution_count": 10,
   "id": "2e75a68e",
   "metadata": {},
   "outputs": [
    {
     "data": {
      "text/plain": [
       "[('創業夢', 0.8637939095497131),\n",
       " ('創業型', 0.8198989629745483),\n",
       " ('創業家', 0.8175063133239746),\n",
       " ('創業期', 0.8097460865974426),\n",
       " ('創業園', 0.80930495262146),\n",
       " ('創業圈', 0.7877172827720642),\n",
       " ('創業潮', 0.7833483219146729),\n",
       " ('創業班', 0.779922604560852),\n",
       " ('創業史', 0.7777391672134399),\n",
       " ('創業板', 0.7757760882377625)]"
      ]
     },
     "execution_count": 10,
     "metadata": {},
     "output_type": "execute_result"
    }
   ],
   "source": [
    "# 詞相似度\n",
    "model1.wv.most_similar('創業')"
   ]
  },
  {
   "cell_type": "code",
   "execution_count": 11,
   "id": "61fb884e",
   "metadata": {},
   "outputs": [
    {
     "data": {
      "text/plain": [
       "[('奔喪', 0.8306543827056885),\n",
       " ('查價', 0.8266419768333435),\n",
       " ('事業績', 0.8018083572387695),\n",
       " ('事業主', 0.7952412962913513),\n",
       " ('事業財', 0.7805804014205933),\n",
       " ('業務', 0.7751747965812683),\n",
       " ('事業心', 0.7741957902908325),\n",
       " ('事業版', 0.7675676345825195),\n",
       " ('事業家', 0.7656762003898621),\n",
       " ('事業宮', 0.7652044296264648)]"
      ]
     },
     "execution_count": 11,
     "metadata": {},
     "output_type": "execute_result"
    }
   ],
   "source": [
    "model1.wv.similar_by_word('事業')"
   ]
  },
  {
   "cell_type": "code",
   "execution_count": 12,
   "id": "aad6f3ea",
   "metadata": {},
   "outputs": [
    {
     "data": {
      "text/plain": [
       "[('新高', 2.2588063e-05),\n",
       " ('創', 2.1849344e-05),\n",
       " ('創下', 2.0509158e-05),\n",
       " ('呢', 1.901457e-05),\n",
       " ('歷史', 1.8420504e-05),\n",
       " ('財訊', 1.7001823e-05),\n",
       " ('年增率', 1.6000093e-05),\n",
       " ('季報', 1.4546281e-05),\n",
       " ('創新', 1.4234524e-05),\n",
       " ('日月光', 1.3865603e-05)]"
      ]
     },
     "execution_count": 12,
     "metadata": {},
     "output_type": "execute_result"
    }
   ],
   "source": [
    "model1.predict_output_word('創業')"
   ]
  },
  {
   "cell_type": "code",
   "execution_count": null,
   "id": "4f0c5afe",
   "metadata": {},
   "outputs": [],
   "source": []
  },
  {
   "cell_type": "code",
   "execution_count": null,
   "id": "80b821a3",
   "metadata": {},
   "outputs": [],
   "source": []
  }
 ],
 "metadata": {
  "kernelspec": {
   "display_name": "Python 3",
   "language": "python",
   "name": "python3"
  },
  "language_info": {
   "codemirror_mode": {
    "name": "ipython",
    "version": 3
   },
   "file_extension": ".py",
   "mimetype": "text/x-python",
   "name": "python",
   "nbconvert_exporter": "python",
   "pygments_lexer": "ipython3",
   "version": "3.8.8"
  }
 },
 "nbformat": 4,
 "nbformat_minor": 5
}
